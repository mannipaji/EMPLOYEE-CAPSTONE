{
 "cells": [
  {
   "cell_type": "code",
   "execution_count": 2,
   "metadata": {},
   "outputs": [],
   "source": [
    "from pyspark.sql import SparkSession\n",
    "spark=(SparkSession.builder.appName(\"ML_PIPELINE\")\\\n",
    "       .config(\"hive.metastore.uris\",\"thrift://ip-10-1-2-24.ap-south-1.compute.internal:9083\")\\\n",
    "       .enableHiveSupport().getOrCreate())"
   ]
  },
  {
   "cell_type": "code",
   "execution_count": 3,
   "metadata": {},
   "outputs": [
    {
     "data": {
      "text/html": [
       "\n",
       "            <div>\n",
       "                <p><b>SparkSession - hive</b></p>\n",
       "                \n",
       "        <div>\n",
       "            <p><b>SparkContext</b></p>\n",
       "\n",
       "            <p><a href=\"http://ip-10-1-1-204.ap-south-1.compute.internal:43022\">Spark UI</a></p>\n",
       "\n",
       "            <dl>\n",
       "              <dt>Version</dt>\n",
       "                <dd><code>v2.4.0</code></dd>\n",
       "              <dt>Master</dt>\n",
       "                <dd><code>local[*]</code></dd>\n",
       "              <dt>AppName</dt>\n",
       "                <dd><code>ML_PIPELINE</code></dd>\n",
       "            </dl>\n",
       "        </div>\n",
       "        \n",
       "            </div>\n",
       "        "
      ],
      "text/plain": [
       "<pyspark.sql.session.SparkSession at 0x7f0290bf9790>"
      ]
     },
     "execution_count": 3,
     "metadata": {},
     "output_type": "execute_result"
    }
   ],
   "source": [
    "spark"
   ]
  },
  {
   "cell_type": "code",
   "execution_count": 4,
   "metadata": {},
   "outputs": [],
   "source": [
    "emp_df=spark.sql(\"select * from nls.employeess\")"
   ]
  },
  {
   "cell_type": "code",
   "execution_count": 5,
   "metadata": {},
   "outputs": [],
   "source": [
    "department_df=spark.sql(\"select * from nls.departments\")\n"
   ]
  },
  {
   "cell_type": "code",
   "execution_count": 6,
   "metadata": {},
   "outputs": [],
   "source": [
    "import pandas as pd"
   ]
  },
  {
   "cell_type": "code",
   "execution_count": 7,
   "metadata": {},
   "outputs": [],
   "source": [
    "dept_emp_df=spark.sql(\"select * from nls.dept_emp\")"
   ]
  },
  {
   "cell_type": "code",
   "execution_count": 8,
   "metadata": {},
   "outputs": [],
   "source": [
    "dept_manager_df=spark.sql(\"select * from nls.dept_manager\")"
   ]
  },
  {
   "cell_type": "code",
   "execution_count": 9,
   "metadata": {},
   "outputs": [],
   "source": [
    "salaries_df=spark.sql(\"select * from nls.salaries\")"
   ]
  },
  {
   "cell_type": "code",
   "execution_count": 10,
   "metadata": {},
   "outputs": [],
   "source": [
    "title_df=spark.sql(\"select * from nls.title\")"
   ]
  },
  {
   "cell_type": "code",
   "execution_count": 11,
   "metadata": {},
   "outputs": [],
   "source": [
    "\n",
    "DF=emp_df.join(dept_emp_df,on=\"emp_no\",how='left').join(department_df,on=\"dept_no\",how=\"left\").join(salaries_df,on=\"emp_no\",how=\"left\").join(title_df,emp_df.emp_title_id==title_df.title_id,\"left\")"
   ]
  },
  {
   "cell_type": "code",
   "execution_count": 72,
   "metadata": {},
   "outputs": [
    {
     "name": "stdout",
     "output_type": "stream",
     "text": [
      "+-------+--------------------+------+-----------+------------+\n",
      "|dept_no|           dept_name|emp_no| first_name|   last_name|\n",
      "+-------+--------------------+------+-----------+------------+\n",
      "|   d001|         \"Marketing\"|110022|  Margareta|  Markovitch|\n",
      "|   d001|         \"Marketing\"|110039|   Vishwani|    Minakawa|\n",
      "|   d002|           \"Finance\"|110085|       Ebru|       Alpin|\n",
      "|   d002|           \"Finance\"|110114|      Isamu|  Legleitner|\n",
      "|   d003|   \"Human Resources\"|110183|    Shirish|Ossenbruggen|\n",
      "|   d003|   \"Human Resources\"|110228|    Karsten|     Sigstam|\n",
      "|   d004|        \"Production\"|110303|  Krassimir|     Wegerle|\n",
      "|   d004|        \"Production\"|110344|     Rosine|       Cools|\n",
      "|   d004|        \"Production\"|110386|       Shem|      Kieras|\n",
      "|   d004|        \"Production\"|110420|      Oscar|    Ghazalie|\n",
      "|   d005|       \"development\"|110511|   DeForest|    Hagimont|\n",
      "|   d005|       \"development\"|110567|       Leon|    DasSarma|\n",
      "|   d006|\"Quality Management\"|110725|  Peternela|     Onuegbe|\n",
      "|   d006|\"Quality Management\"|110765|     Rutger|     Hofmeyr|\n",
      "|   d006|\"Quality Management\"|110800|     Sanjoy|     Quadeer|\n",
      "|   d006|\"Quality Management\"|110854|       Dung|       Pesch|\n",
      "|   d007|             \"Sales\"|111035|Przemyslawa|   Kaelbling|\n",
      "|   d007|             \"Sales\"|111133|      Hauke|       Zhang|\n",
      "|   d008|          \"Research\"|111400|       Arie|     Staelin|\n",
      "|   d008|          \"Research\"|111534|     Hilary|      Kambil|\n",
      "+-------+--------------------+------+-----------+------------+\n",
      "only showing top 20 rows\n",
      "\n"
     ]
    }
   ],
   "source": [
    "##question no-02 A list showing the manager of each department with the following information: department number, department name, \n",
    "##the manager's employee number, last name, first name.\n",
    "\n",
    "spark.sql(\"select departments.dept_no,departments.dept_name,dept_manager.emp_no,employees.first_name,employees.last_name from departments inner join dept_manager on departments.dept_no=dept_manager.dept_no  inner join employees on employees.emp_no=dept_manager.emp_no\").show()"
   ]
  },
  {
   "cell_type": "code",
   "execution_count": 12,
   "metadata": {},
   "outputs": [
    {
     "name": "stdout",
     "output_type": "stream",
     "text": [
      "+------+-------+------------+----------+----------+---------+---+----------+--------------+------------------------+-----+---------+------------------+------+--------+------------------+\n",
      "|emp_no|dept_no|emp_title_id|birth_date|first_name|last_name|sex|hire_date |no_of_projects|last_performance_ratings|left1|last_date|dept_name         |salary|title_id|title             |\n",
      "+------+-------+------------+----------+----------+---------+---+----------+--------------+------------------------+-----+---------+------------------+------+--------+------------------+\n",
      "|10001 |d005   |e0003       |09-02-1953|Georgi    |Facello  |M  |6/26/1986 |9             |C                       |true |7/30/1994|development       |60117 |e0003   |Senior Engineer   |\n",
      "|10002 |d007   |s0001       |06-02-1964|Bezalel   |Simmel   |F  |11/21/1985|8             |B                       |false|         |Sales             |65828 |s0001   |Staff             |\n",
      "|10003 |d004   |e0003       |12-03-1959|Parto     |Bamford  |M  |8/28/1986 |1             |C                       |false|         |Production        |40006 |e0003   |Senior Engineer   |\n",
      "|10004 |d004   |e0003       |05-01-1954|Chirstian |Koblick  |M  |12-01-1986|5             |A                       |false|         |Production        |40054 |e0003   |Senior Engineer   |\n",
      "|10005 |d003   |s0001       |1/21/1955 |Kyoichi   |Maliniak |M  |09-12-1989|6             |A                       |false|         |Human Resources   |78228 |s0001   |Staff             |\n",
      "|10006 |d005   |e0003       |4/20/1953 |Anneke    |Preusig  |F  |06-02-1989|10            |B                       |false|         |development       |40000 |e0003   |Senior Engineer   |\n",
      "|10007 |d008   |s0001       |5/23/1957 |Tzvetan   |Zielinski|F  |02-10-1989|6             |B                       |true |9/18/2002|Research          |56724 |s0001   |Staff             |\n",
      "|10008 |d005   |e0001       |2/19/1958 |Saniya    |Kalloufi |M  |9/15/1994 |9             |C                       |false|         |development       |46671 |e0001   |Assistant Engineer|\n",
      "|10009 |d006   |e0003       |4/19/1952 |Sumant    |Peac     |F  |2/18/1985 |8             |B                       |false|         |Quality Management|60929 |e0003   |Senior Engineer   |\n",
      "|10010 |d006   |e0002       |06-01-1963|Duangkaew |Piveteau |F  |8/24/1989 |4             |A                       |false|         |Quality Management|72488 |e0002   |Engineer          |\n",
      "+------+-------+------------+----------+----------+---------+---+----------+--------------+------------------------+-----+---------+------------------+------+--------+------------------+\n",
      "only showing top 10 rows\n",
      "\n"
     ]
    }
   ],
   "source": [
    "DF.show(10,truncate=False)"
   ]
  },
  {
   "cell_type": "code",
   "execution_count": 13,
   "metadata": {},
   "outputs": [
    {
     "name": "stdout",
     "output_type": "stream",
     "text": [
      "root\n",
      " |-- emp_no: integer (nullable = true)\n",
      " |-- dept_no: string (nullable = true)\n",
      " |-- emp_title_id: string (nullable = true)\n",
      " |-- birth_date: string (nullable = true)\n",
      " |-- first_name: string (nullable = true)\n",
      " |-- last_name: string (nullable = true)\n",
      " |-- sex: string (nullable = true)\n",
      " |-- hire_date: string (nullable = true)\n",
      " |-- no_of_projects: integer (nullable = true)\n",
      " |-- last_performance_ratings: string (nullable = true)\n",
      " |-- left1: boolean (nullable = true)\n",
      " |-- last_date: string (nullable = true)\n",
      " |-- dept_name: string (nullable = true)\n",
      " |-- salary: integer (nullable = true)\n",
      " |-- title_id: string (nullable = true)\n",
      " |-- title: string (nullable = true)\n",
      "\n"
     ]
    }
   ],
   "source": [
    "DF.printSchema()"
   ]
  },
  {
   "cell_type": "code",
   "execution_count": 14,
   "metadata": {},
   "outputs": [],
   "source": [
    "import matplotlib.pyplot as plt\n",
    "%matplotlib inline\n",
    "import seaborn as sns\n"
   ]
  },
  {
   "cell_type": "code",
   "execution_count": 15,
   "metadata": {},
   "outputs": [],
   "source": [
    "import pandas as pd"
   ]
  },
  {
   "cell_type": "code",
   "execution_count": 16,
   "metadata": {},
   "outputs": [],
   "source": [
    "dataframe=DF.toPandas()"
   ]
  },
  {
   "cell_type": "code",
   "execution_count": 17,
   "metadata": {},
   "outputs": [
    {
     "data": {
      "text/plain": [
       "emp_no                      0\n",
       "dept_no                     0\n",
       "emp_title_id                0\n",
       "birth_date                  0\n",
       "first_name                  0\n",
       "last_name                   0\n",
       "sex                         0\n",
       "hire_date                   0\n",
       "no_of_projects              0\n",
       "last_performance_ratings    0\n",
       "left1                       0\n",
       "last_date                   0\n",
       "dept_name                   0\n",
       "salary                      0\n",
       "title_id                    0\n",
       "title                       0\n",
       "dtype: int64"
      ]
     },
     "execution_count": 17,
     "metadata": {},
     "output_type": "execute_result"
    }
   ],
   "source": [
    "dataframe.isnull().sum()"
   ]
  },
  {
   "cell_type": "code",
   "execution_count": 18,
   "metadata": {},
   "outputs": [
    {
     "data": {
      "image/png": "[encoded data removed]",
      "text/plain": [
       "<Figure size 648x648 with 1 Axes>"
      ]
     },
     "metadata": {
      "needs_background": "light"
     },
     "output_type": "display_data"
    }
   ],
   "source": [
    "import numpy as np\n",
    "salary_department=dataframe.groupby([\"dept_name\"])[(\"salary\")].sum()\n",
    "salary_department.plot(kind=\"line\",figsize=(9,9))\n",
    "plt.ylabel(\"Salary\")\n",
    "plt.title(\"Dept_Wise_salary\")\n",
    "plt.xticks(rotation=30,ha=\"right\")\n",
    "\n",
    "plt.show()"
   ]
  },
  {
   "cell_type": "code",
   "execution_count": 19,
   "metadata": {},
   "outputs": [
    {
     "data": {
      "image/png": "[encoded data removed]",
      "text/plain": [
       "<Figure size 648x648 with 1 Axes>"
      ]
     },
     "metadata": {
      "needs_background": "light"
     },
     "output_type": "display_data"
    }
   ],
   "source": [
    "salary_project=dataframe.groupby(\"last_performance_ratings\")[\"salary\"].sum()\n",
    "salary_project.plot(kind=\"bar\",figsize=(9,9))\n",
    "plt.ylabel(\"Salary\")\n",
    "plt.show()\n",
    "\n"
   ]
  },
  {
   "cell_type": "code",
   "execution_count": 20,
   "metadata": {},
   "outputs": [
    {
     "data": {
      "text/plain": [
       "[]"
      ]
     },
     "execution_count": 20,
     "metadata": {},
     "output_type": "execute_result"
    },
    {
     "data": {
      "image/png": "[encoded data removed]",
      "text/plain": [
       "<Figure size 504x504 with 1 Axes>"
      ]
     },
     "metadata": {
      "needs_background": "light"
     },
     "output_type": "display_data"
    }
   ],
   "source": [
    "title_left=dataframe.groupby(\"title\")[\"left1\"].sum()\n",
    "title_left.plot(kind=\"bar\",figsize=(7,7))\n",
    "plt.plot()"
   ]
  },
  {
   "cell_type": "code",
   "execution_count": 21,
   "metadata": {},
   "outputs": [],
   "source": [
    "##catgeorical values \n",
    "\n",
    "numerical_feature=[\"salary\",\"no_of_projects\"]\n",
    "\n",
    "categorical_feature=[\"dept_name\",\"dept_no\",\"title\"]"
   ]
  },
  {
   "cell_type": "code",
   "execution_count": 22,
   "metadata": {},
   "outputs": [
    {
     "data": {
      "text/html": [
       "<div>\n",
       "<style scoped>\n",
       "    .dataframe tbody tr th:only-of-type {\n",
       "        vertical-align: middle;\n",
       "    }\n",
       "\n",
       "    .dataframe tbody tr th {\n",
       "        vertical-align: top;\n",
       "    }\n",
       "\n",
       "    .dataframe thead th {\n",
       "        text-align: right;\n",
       "    }\n",
       "</style>\n",
       "<table border=\"1\" class=\"dataframe\">\n",
       "  <thead>\n",
       "    <tr style=\"text-align: right;\">\n",
       "      <th>dept_name</th>\n",
       "      <th>Customer Service</th>\n",
       "      <th>Finance</th>\n",
       "      <th>Human Resources</th>\n",
       "      <th>Marketing</th>\n",
       "      <th>Production</th>\n",
       "      <th>Quality Management</th>\n",
       "      <th>Research</th>\n",
       "      <th>Sales</th>\n",
       "      <th>development</th>\n",
       "    </tr>\n",
       "    <tr>\n",
       "      <th>no_of_projects</th>\n",
       "      <th></th>\n",
       "      <th></th>\n",
       "      <th></th>\n",
       "      <th></th>\n",
       "      <th></th>\n",
       "      <th></th>\n",
       "      <th></th>\n",
       "      <th></th>\n",
       "      <th></th>\n",
       "    </tr>\n",
       "  </thead>\n",
       "  <tbody>\n",
       "    <tr>\n",
       "      <th>1</th>\n",
       "      <td>114606319</td>\n",
       "      <td>104787499</td>\n",
       "      <td>77881179</td>\n",
       "      <td>124598953</td>\n",
       "      <td>359533282</td>\n",
       "      <td>93299107</td>\n",
       "      <td>99474854</td>\n",
       "      <td>362528382</td>\n",
       "      <td>416985877</td>\n",
       "    </tr>\n",
       "    <tr>\n",
       "      <th>2</th>\n",
       "      <td>115060937</td>\n",
       "      <td>104072704</td>\n",
       "      <td>77172327</td>\n",
       "      <td>123427748</td>\n",
       "      <td>349275288</td>\n",
       "      <td>93557241</td>\n",
       "      <td>103627908</td>\n",
       "      <td>363991080</td>\n",
       "      <td>420687034</td>\n",
       "    </tr>\n",
       "    <tr>\n",
       "      <th>3</th>\n",
       "      <td>113315115</td>\n",
       "      <td>104019987</td>\n",
       "      <td>82970467</td>\n",
       "      <td>117247628</td>\n",
       "      <td>361751467</td>\n",
       "      <td>91225031</td>\n",
       "      <td>102208520</td>\n",
       "      <td>358307516</td>\n",
       "      <td>424120719</td>\n",
       "    </tr>\n",
       "    <tr>\n",
       "      <th>4</th>\n",
       "      <td>112844691</td>\n",
       "      <td>102496055</td>\n",
       "      <td>81167280</td>\n",
       "      <td>125415259</td>\n",
       "      <td>357756285</td>\n",
       "      <td>91633031</td>\n",
       "      <td>102225890</td>\n",
       "      <td>366325447</td>\n",
       "      <td>411846251</td>\n",
       "    </tr>\n",
       "    <tr>\n",
       "      <th>5</th>\n",
       "      <td>115299239</td>\n",
       "      <td>99761198</td>\n",
       "      <td>79474131</td>\n",
       "      <td>121944687</td>\n",
       "      <td>360529309</td>\n",
       "      <td>93048230</td>\n",
       "      <td>101439055</td>\n",
       "      <td>370457216</td>\n",
       "      <td>409499587</td>\n",
       "    </tr>\n",
       "    <tr>\n",
       "      <th>6</th>\n",
       "      <td>112734012</td>\n",
       "      <td>104215104</td>\n",
       "      <td>82208885</td>\n",
       "      <td>124068157</td>\n",
       "      <td>359256149</td>\n",
       "      <td>96732602</td>\n",
       "      <td>100639271</td>\n",
       "      <td>363094024</td>\n",
       "      <td>416831191</td>\n",
       "    </tr>\n",
       "    <tr>\n",
       "      <th>7</th>\n",
       "      <td>111406049</td>\n",
       "      <td>102186426</td>\n",
       "      <td>75716215</td>\n",
       "      <td>127430812</td>\n",
       "      <td>361655634</td>\n",
       "      <td>94541853</td>\n",
       "      <td>110182679</td>\n",
       "      <td>359098560</td>\n",
       "      <td>418497046</td>\n",
       "    </tr>\n",
       "    <tr>\n",
       "      <th>8</th>\n",
       "      <td>110826933</td>\n",
       "      <td>102763712</td>\n",
       "      <td>81629049</td>\n",
       "      <td>127861589</td>\n",
       "      <td>352179330</td>\n",
       "      <td>90415241</td>\n",
       "      <td>102080742</td>\n",
       "      <td>367343587</td>\n",
       "      <td>418969178</td>\n",
       "    </tr>\n",
       "    <tr>\n",
       "      <th>9</th>\n",
       "      <td>114625773</td>\n",
       "      <td>103258469</td>\n",
       "      <td>76914847</td>\n",
       "      <td>121671218</td>\n",
       "      <td>364444916</td>\n",
       "      <td>97246899</td>\n",
       "      <td>104947114</td>\n",
       "      <td>365443202</td>\n",
       "      <td>417319652</td>\n",
       "    </tr>\n",
       "    <tr>\n",
       "      <th>10</th>\n",
       "      <td>111089581</td>\n",
       "      <td>105107224</td>\n",
       "      <td>79520032</td>\n",
       "      <td>121143131</td>\n",
       "      <td>356780069</td>\n",
       "      <td>92856232</td>\n",
       "      <td>105183075</td>\n",
       "      <td>371790469</td>\n",
       "      <td>418945927</td>\n",
       "    </tr>\n",
       "  </tbody>\n",
       "</table>\n",
       "</div>"
      ],
      "text/plain": [
       "dept_name       Customer Service    Finance  Human Resources  Marketing  \\\n",
       "no_of_projects                                                            \n",
       "1                      114606319  104787499         77881179  124598953   \n",
       "2                      115060937  104072704         77172327  123427748   \n",
       "3                      113315115  104019987         82970467  117247628   \n",
       "4                      112844691  102496055         81167280  125415259   \n",
       "5                      115299239   99761198         79474131  121944687   \n",
       "6                      112734012  104215104         82208885  124068157   \n",
       "7                      111406049  102186426         75716215  127430812   \n",
       "8                      110826933  102763712         81629049  127861589   \n",
       "9                      114625773  103258469         76914847  121671218   \n",
       "10                     111089581  105107224         79520032  121143131   \n",
       "\n",
       "dept_name       Production  Quality Management   Research      Sales  \\\n",
       "no_of_projects                                                         \n",
       "1                359533282            93299107   99474854  362528382   \n",
       "2                349275288            93557241  103627908  363991080   \n",
       "3                361751467            91225031  102208520  358307516   \n",
       "4                357756285            91633031  102225890  366325447   \n",
       "5                360529309            93048230  101439055  370457216   \n",
       "6                359256149            96732602  100639271  363094024   \n",
       "7                361655634            94541853  110182679  359098560   \n",
       "8                352179330            90415241  102080742  367343587   \n",
       "9                364444916            97246899  104947114  365443202   \n",
       "10               356780069            92856232  105183075  371790469   \n",
       "\n",
       "dept_name       development  \n",
       "no_of_projects               \n",
       "1                 416985877  \n",
       "2                 420687034  \n",
       "3                 424120719  \n",
       "4                 411846251  \n",
       "5                 409499587  \n",
       "6                 416831191  \n",
       "7                 418497046  \n",
       "8                 418969178  \n",
       "9                 417319652  \n",
       "10                418945927  "
      ]
     },
     "execution_count": 22,
     "metadata": {},
     "output_type": "execute_result"
    }
   ],
   "source": [
    "##pivot table for salary department and title wise\n",
    "\n",
    "pd.pivot_table(dataframe,values=\"salary\",index=[\"no_of_projects\"],columns=[\"dept_name\"],aggfunc=np.sum)"
   ]
  },
  {
   "cell_type": "code",
   "execution_count": 23,
   "metadata": {},
   "outputs": [],
   "source": [
    "from pyspark.ml.feature import StringIndexer,OneHotEncoderEstimator,VectorAssembler,PolynomialExpansion,VectorIndexer"
   ]
  },
  {
   "cell_type": "code",
   "execution_count": 24,
   "metadata": {},
   "outputs": [],
   "source": [
    "##creating object of string indexer and converting the string value to indexer\n",
    "\n",
    "SI_dept_name=StringIndexer(inputCol=\"dept_name\",outputCol=\"dept_name_IDX\")\n",
    "SI_dept_no=StringIndexer(inputCol=\"dept_no\",outputCol=\"dept_no_IDX\")\n",
    "SI_title=StringIndexer(inputCol=\"title\",outputCol=\"title_IDX\")\n",
    "\n",
    "\n",
    "##tranform the data \n",
    "\n",
    "\n",
    "DF=SI_dept_name.fit(DF).transform(DF)\n",
    "DF=SI_dept_no.fit(DF).transform(DF)\n",
    "DF=SI_title.fit(DF).transform(DF)"
   ]
  },
  {
   "cell_type": "code",
   "execution_count": 25,
   "metadata": {},
   "outputs": [
    {
     "name": "stdout",
     "output_type": "stream",
     "text": [
      "+------------------+-------------+-------+-----------+------------------+---------+\n",
      "|         dept_name|dept_name_IDX|dept_no|dept_no_IDX|             title|title_IDX|\n",
      "+------------------+-------------+-------+-----------+------------------+---------+\n",
      "|       development|          0.0|   d005|        0.0|   Senior Engineer|      1.0|\n",
      "|             Sales|          2.0|   d007|        2.0|             Staff|      0.0|\n",
      "|        Production|          1.0|   d004|        1.0|   Senior Engineer|      1.0|\n",
      "|        Production|          1.0|   d004|        1.0|   Senior Engineer|      1.0|\n",
      "|   Human Resources|          7.0|   d003|        7.0|             Staff|      0.0|\n",
      "|       development|          0.0|   d005|        0.0|   Senior Engineer|      1.0|\n",
      "|          Research|          4.0|   d008|        4.0|             Staff|      0.0|\n",
      "|       development|          0.0|   d005|        0.0|Assistant Engineer|      5.0|\n",
      "|Quality Management|          6.0|   d006|        6.0|   Senior Engineer|      1.0|\n",
      "|Quality Management|          6.0|   d006|        6.0|          Engineer|      2.0|\n",
      "|        Production|          1.0|   d004|        1.0|          Engineer|      2.0|\n",
      "|  Customer Service|          3.0|   d009|        3.0|             Staff|      0.0|\n",
      "|       development|          0.0|   d005|        0.0|   Senior Engineer|      1.0|\n",
      "|   Human Resources|          7.0|   d003|        7.0|      Senior Staff|      3.0|\n",
      "|       development|          0.0|   d005|        0.0|          Engineer|      2.0|\n",
      "|          Research|          4.0|   d008|        4.0|      Senior Staff|      3.0|\n",
      "|             Sales|          2.0|   d007|        2.0|             Staff|      0.0|\n",
      "|         Marketing|          5.0|   d001|        5.0|             Staff|      0.0|\n",
      "|       development|          0.0|   d005|        0.0|   Senior Engineer|      1.0|\n",
      "|        Production|          1.0|   d004|        1.0|   Senior Engineer|      1.0|\n",
      "+------------------+-------------+-------+-----------+------------------+---------+\n",
      "only showing top 20 rows\n",
      "\n"
     ]
    }
   ],
   "source": [
    "DF.select(\"dept_name\",\"dept_name_IDX\",\"dept_no\",\"dept_no_IDX\",\"title\",\"title_IDX\").show()"
   ]
  },
  {
   "cell_type": "code",
   "execution_count": 26,
   "metadata": {},
   "outputs": [],
   "source": [
    "#creating object of OHE and providing the input cols and output cols\n",
    "\n",
    "\n",
    "ohe=OneHotEncoderEstimator(inputCols=[\"dept_name_IDX\",\"dept_no_IDX\",\"title_IDX\"],outputCols=[\"dept_name_vector\",\"dept_no_vector\",\"title_vector\"])\n",
    "\n",
    "##fitting the model to get vectors\n",
    "\n",
    "DF=ohe.fit(DF).transform(DF)"
   ]
  },
  {
   "cell_type": "code",
   "execution_count": 27,
   "metadata": {},
   "outputs": [
    {
     "name": "stdout",
     "output_type": "stream",
     "text": [
      "+------------------+-------------+----------------+-------+-----------+--------------+------------------+---------+-------------+\n",
      "|         dept_name|dept_name_IDX|dept_name_vector|dept_no|dept_no_IDX|dept_no_vector|             title|title_IDX| title_vector|\n",
      "+------------------+-------------+----------------+-------+-----------+--------------+------------------+---------+-------------+\n",
      "|       development|          0.0|   (8,[0],[1.0])|   d005|        0.0| (8,[0],[1.0])|   Senior Engineer|      1.0|(6,[1],[1.0])|\n",
      "|             Sales|          2.0|   (8,[2],[1.0])|   d007|        2.0| (8,[2],[1.0])|             Staff|      0.0|(6,[0],[1.0])|\n",
      "|        Production|          1.0|   (8,[1],[1.0])|   d004|        1.0| (8,[1],[1.0])|   Senior Engineer|      1.0|(6,[1],[1.0])|\n",
      "|        Production|          1.0|   (8,[1],[1.0])|   d004|        1.0| (8,[1],[1.0])|   Senior Engineer|      1.0|(6,[1],[1.0])|\n",
      "|   Human Resources|          7.0|   (8,[7],[1.0])|   d003|        7.0| (8,[7],[1.0])|             Staff|      0.0|(6,[0],[1.0])|\n",
      "|       development|          0.0|   (8,[0],[1.0])|   d005|        0.0| (8,[0],[1.0])|   Senior Engineer|      1.0|(6,[1],[1.0])|\n",
      "|          Research|          4.0|   (8,[4],[1.0])|   d008|        4.0| (8,[4],[1.0])|             Staff|      0.0|(6,[0],[1.0])|\n",
      "|       development|          0.0|   (8,[0],[1.0])|   d005|        0.0| (8,[0],[1.0])|Assistant Engineer|      5.0|(6,[5],[1.0])|\n",
      "|Quality Management|          6.0|   (8,[6],[1.0])|   d006|        6.0| (8,[6],[1.0])|   Senior Engineer|      1.0|(6,[1],[1.0])|\n",
      "|Quality Management|          6.0|   (8,[6],[1.0])|   d006|        6.0| (8,[6],[1.0])|          Engineer|      2.0|(6,[2],[1.0])|\n",
      "|        Production|          1.0|   (8,[1],[1.0])|   d004|        1.0| (8,[1],[1.0])|          Engineer|      2.0|(6,[2],[1.0])|\n",
      "|  Customer Service|          3.0|   (8,[3],[1.0])|   d009|        3.0| (8,[3],[1.0])|             Staff|      0.0|(6,[0],[1.0])|\n",
      "|       development|          0.0|   (8,[0],[1.0])|   d005|        0.0| (8,[0],[1.0])|   Senior Engineer|      1.0|(6,[1],[1.0])|\n",
      "|   Human Resources|          7.0|   (8,[7],[1.0])|   d003|        7.0| (8,[7],[1.0])|      Senior Staff|      3.0|(6,[3],[1.0])|\n",
      "|       development|          0.0|   (8,[0],[1.0])|   d005|        0.0| (8,[0],[1.0])|          Engineer|      2.0|(6,[2],[1.0])|\n",
      "|          Research|          4.0|   (8,[4],[1.0])|   d008|        4.0| (8,[4],[1.0])|      Senior Staff|      3.0|(6,[3],[1.0])|\n",
      "|             Sales|          2.0|   (8,[2],[1.0])|   d007|        2.0| (8,[2],[1.0])|             Staff|      0.0|(6,[0],[1.0])|\n",
      "|         Marketing|          5.0|   (8,[5],[1.0])|   d001|        5.0| (8,[5],[1.0])|             Staff|      0.0|(6,[0],[1.0])|\n",
      "|       development|          0.0|   (8,[0],[1.0])|   d005|        0.0| (8,[0],[1.0])|   Senior Engineer|      1.0|(6,[1],[1.0])|\n",
      "|        Production|          1.0|   (8,[1],[1.0])|   d004|        1.0| (8,[1],[1.0])|   Senior Engineer|      1.0|(6,[1],[1.0])|\n",
      "+------------------+-------------+----------------+-------+-----------+--------------+------------------+---------+-------------+\n",
      "only showing top 20 rows\n",
      "\n"
     ]
    }
   ],
   "source": [
    "DF.select(\"dept_name\",\"dept_name_IDX\",\"dept_name_vector\",\"dept_no\",\"dept_no_IDX\",\"dept_no_vector\",\"title\",\"title_IDX\",\"title_vector\").show()"
   ]
  },
  {
   "cell_type": "code",
   "execution_count": 28,
   "metadata": {},
   "outputs": [],
   "source": [
    "features_col=numerical_feature+[\"dept_name_vector\",\"dept_no_vector\",\"title_vector\"]"
   ]
  },
  {
   "cell_type": "code",
   "execution_count": 29,
   "metadata": {},
   "outputs": [],
   "source": [
    "assembler=VectorAssembler(inputCols=features_col,outputCol=\"features\")"
   ]
  },
  {
   "cell_type": "code",
   "execution_count": 30,
   "metadata": {},
   "outputs": [
    {
     "name": "stdout",
     "output_type": "stream",
     "text": [
      "VectorAssembler_6d71e92a9428\n"
     ]
    }
   ],
   "source": [
    "print(assembler)"
   ]
  },
  {
   "cell_type": "code",
   "execution_count": 31,
   "metadata": {},
   "outputs": [],
   "source": [
    "train_DF=assembler.transform(DF)"
   ]
  },
  {
   "cell_type": "code",
   "execution_count": 32,
   "metadata": {},
   "outputs": [
    {
     "name": "stdout",
     "output_type": "stream",
     "text": [
      "+------+-------+------------+----------+----------+-----------+---+----------+--------------+------------------------+-----+---------+------------------+------+--------+------------------+-------------+-----------+---------+----------------+--------------+-------------+--------------------+\n",
      "|emp_no|dept_no|emp_title_id|birth_date|first_name|  last_name|sex| hire_date|no_of_projects|last_performance_ratings|left1|last_date|         dept_name|salary|title_id|             title|dept_name_IDX|dept_no_IDX|title_IDX|dept_name_vector|dept_no_vector| title_vector|            features|\n",
      "+------+-------+------------+----------+----------+-----------+---+----------+--------------+------------------------+-----+---------+------------------+------+--------+------------------+-------------+-----------+---------+----------------+--------------+-------------+--------------------+\n",
      "| 10001|   d005|       e0003|09-02-1953|    Georgi|    Facello|  M| 6/26/1986|             9|                       C| true|7/30/1994|       development| 60117|   e0003|   Senior Engineer|          0.0|        0.0|      1.0|   (8,[0],[1.0])| (8,[0],[1.0])|(6,[1],[1.0])|(24,[0,1,2,10,19]...|\n",
      "| 10002|   d007|       s0001|06-02-1964|   Bezalel|     Simmel|  F|11/21/1985|             8|                       B|false|         |             Sales| 65828|   s0001|             Staff|          2.0|        2.0|      0.0|   (8,[2],[1.0])| (8,[2],[1.0])|(6,[0],[1.0])|(24,[0,1,4,12,18]...|\n",
      "| 10003|   d004|       e0003|12-03-1959|     Parto|    Bamford|  M| 8/28/1986|             1|                       C|false|         |        Production| 40006|   e0003|   Senior Engineer|          1.0|        1.0|      1.0|   (8,[1],[1.0])| (8,[1],[1.0])|(6,[1],[1.0])|(24,[0,1,3,11,19]...|\n",
      "| 10004|   d004|       e0003|05-01-1954| Chirstian|    Koblick|  M|12-01-1986|             5|                       A|false|         |        Production| 40054|   e0003|   Senior Engineer|          1.0|        1.0|      1.0|   (8,[1],[1.0])| (8,[1],[1.0])|(6,[1],[1.0])|(24,[0,1,3,11,19]...|\n",
      "| 10005|   d003|       s0001| 1/21/1955|   Kyoichi|   Maliniak|  M|09-12-1989|             6|                       A|false|         |   Human Resources| 78228|   s0001|             Staff|          7.0|        7.0|      0.0|   (8,[7],[1.0])| (8,[7],[1.0])|(6,[0],[1.0])|(24,[0,1,9,17,18]...|\n",
      "| 10006|   d005|       e0003| 4/20/1953|    Anneke|    Preusig|  F|06-02-1989|            10|                       B|false|         |       development| 40000|   e0003|   Senior Engineer|          0.0|        0.0|      1.0|   (8,[0],[1.0])| (8,[0],[1.0])|(6,[1],[1.0])|(24,[0,1,2,10,19]...|\n",
      "| 10007|   d008|       s0001| 5/23/1957|   Tzvetan|  Zielinski|  F|02-10-1989|             6|                       B| true|9/18/2002|          Research| 56724|   s0001|             Staff|          4.0|        4.0|      0.0|   (8,[4],[1.0])| (8,[4],[1.0])|(6,[0],[1.0])|(24,[0,1,6,14,18]...|\n",
      "| 10008|   d005|       e0001| 2/19/1958|    Saniya|   Kalloufi|  M| 9/15/1994|             9|                       C|false|         |       development| 46671|   e0001|Assistant Engineer|          0.0|        0.0|      5.0|   (8,[0],[1.0])| (8,[0],[1.0])|(6,[5],[1.0])|(24,[0,1,2,10,23]...|\n",
      "| 10009|   d006|       e0003| 4/19/1952|    Sumant|       Peac|  F| 2/18/1985|             8|                       B|false|         |Quality Management| 60929|   e0003|   Senior Engineer|          6.0|        6.0|      1.0|   (8,[6],[1.0])| (8,[6],[1.0])|(6,[1],[1.0])|(24,[0,1,8,16,19]...|\n",
      "| 10010|   d006|       e0002|06-01-1963| Duangkaew|   Piveteau|  F| 8/24/1989|             4|                       A|false|         |Quality Management| 72488|   e0002|          Engineer|          6.0|        6.0|      2.0|   (8,[6],[1.0])| (8,[6],[1.0])|(6,[2],[1.0])|(24,[0,1,8,16,20]...|\n",
      "| 10010|   d004|       e0002|06-01-1963| Duangkaew|   Piveteau|  F| 8/24/1989|             4|                       A|false|         |        Production| 72488|   e0002|          Engineer|          1.0|        1.0|      2.0|   (8,[1],[1.0])| (8,[1],[1.0])|(6,[2],[1.0])|(24,[0,1,3,11,20]...|\n",
      "| 10011|   d009|       s0001|11-07-1953|      Mary|      Sluis|  F| 1/22/1990|             6|                       C|false|         |  Customer Service| 42365|   s0001|             Staff|          3.0|        3.0|      0.0|   (8,[3],[1.0])| (8,[3],[1.0])|(6,[0],[1.0])|(24,[0,1,5,13,18]...|\n",
      "| 10012|   d005|       e0003|10-04-1960|  Patricio|  Bridgland|  M|12/18/1992|             3|                       A|false|         |       development| 40000|   e0003|   Senior Engineer|          0.0|        0.0|      1.0|   (8,[0],[1.0])| (8,[0],[1.0])|(6,[1],[1.0])|(24,[0,1,2,10,19]...|\n",
      "| 10013|   d003|       s0002|06-07-1963| Eberhardt|     Terkki|  M|10/20/1985|             6|                       C|false|         |   Human Resources| 40000|   s0002|      Senior Staff|          7.0|        7.0|      3.0|   (8,[7],[1.0])| (8,[7],[1.0])|(6,[3],[1.0])|(24,[0,1,9,17,21]...|\n",
      "| 10014|   d005|       e0002|02-12-1956|     Berni|      Genin|  M|03-11-1987|             9|                       B|false|         |       development| 46168|   e0002|          Engineer|          0.0|        0.0|      2.0|   (8,[0],[1.0])| (8,[0],[1.0])|(6,[2],[1.0])|(24,[0,1,2,10,20]...|\n",
      "| 10015|   d008|       s0002| 8/19/1959|  Guoxiang|  Nooteboom|  M|07-02-1987|             4|                       B|false|         |          Research| 40000|   s0002|      Senior Staff|          4.0|        4.0|      3.0|   (8,[4],[1.0])| (8,[4],[1.0])|(6,[3],[1.0])|(24,[0,1,6,14,21]...|\n",
      "| 10016|   d007|       s0001|05-02-1961|  Kazuhito|Cappelletti|  M| 1/27/1995|             5|                       C|false|         |             Sales| 70889|   s0001|             Staff|          2.0|        2.0|      0.0|   (8,[2],[1.0])| (8,[2],[1.0])|(6,[0],[1.0])|(24,[0,1,4,12,18]...|\n",
      "| 10017|   d001|       s0001|07-06-1958| Cristinel|  Bouloucos|  F|08-03-1993|            10|                       A|false|         |         Marketing| 71380|   s0001|             Staff|          5.0|        5.0|      0.0|   (8,[5],[1.0])| (8,[5],[1.0])|(6,[0],[1.0])|(24,[0,1,7,15,18]...|\n",
      "| 10018|   d005|       e0003| 6/19/1954|  Kazuhide|       Peha|  F|04-03-1987|             4|                       B|false|         |       development| 55881|   e0003|   Senior Engineer|          0.0|        0.0|      1.0|   (8,[0],[1.0])| (8,[0],[1.0])|(6,[1],[1.0])|(24,[0,1,2,10,19]...|\n",
      "| 10018|   d004|       e0003| 6/19/1954|  Kazuhide|       Peha|  F|04-03-1987|             4|                       B|false|         |        Production| 55881|   e0003|   Senior Engineer|          1.0|        1.0|      1.0|   (8,[1],[1.0])| (8,[1],[1.0])|(6,[1],[1.0])|(24,[0,1,3,11,19]...|\n",
      "+------+-------+------------+----------+----------+-----------+---+----------+--------------+------------------------+-----+---------+------------------+------+--------+------------------+-------------+-----------+---------+----------------+--------------+-------------+--------------------+\n",
      "only showing top 20 rows\n",
      "\n"
     ]
    }
   ],
   "source": [
    "train_DF.show()"
   ]
  },
  {
   "cell_type": "code",
   "execution_count": 33,
   "metadata": {},
   "outputs": [],
   "source": [
    "train_DF=train_DF.withColumn(\"label\",train_DF[\"left1\"].cast(\"integer\"))"
   ]
  },
  {
   "cell_type": "code",
   "execution_count": 34,
   "metadata": {},
   "outputs": [
    {
     "name": "stdout",
     "output_type": "stream",
     "text": [
      "root\n",
      " |-- emp_no: integer (nullable = true)\n",
      " |-- dept_no: string (nullable = true)\n",
      " |-- emp_title_id: string (nullable = true)\n",
      " |-- birth_date: string (nullable = true)\n",
      " |-- first_name: string (nullable = true)\n",
      " |-- last_name: string (nullable = true)\n",
      " |-- sex: string (nullable = true)\n",
      " |-- hire_date: string (nullable = true)\n",
      " |-- no_of_projects: integer (nullable = true)\n",
      " |-- last_performance_ratings: string (nullable = true)\n",
      " |-- left1: boolean (nullable = true)\n",
      " |-- last_date: string (nullable = true)\n",
      " |-- dept_name: string (nullable = true)\n",
      " |-- salary: integer (nullable = true)\n",
      " |-- title_id: string (nullable = true)\n",
      " |-- title: string (nullable = true)\n",
      " |-- dept_name_IDX: double (nullable = false)\n",
      " |-- dept_no_IDX: double (nullable = false)\n",
      " |-- title_IDX: double (nullable = false)\n",
      " |-- dept_name_vector: vector (nullable = true)\n",
      " |-- dept_no_vector: vector (nullable = true)\n",
      " |-- title_vector: vector (nullable = true)\n",
      " |-- features: vector (nullable = true)\n",
      " |-- label: integer (nullable = true)\n",
      "\n"
     ]
    }
   ],
   "source": [
    "train_DF.printSchema()"
   ]
  },
  {
   "cell_type": "code",
   "execution_count": 61,
   "metadata": {},
   "outputs": [],
   "source": [
    "##split the dataset\n",
    "\n",
    "train_df,test_df=train_DF.randomSplit([0.7,0.3],seed=321)"
   ]
  },
  {
   "cell_type": "code",
   "execution_count": 62,
   "metadata": {},
   "outputs": [
    {
     "name": "stdout",
     "output_type": "stream",
     "text": [
      "+------+-------+------------+----------+----------+-----------+---+----------+--------------+------------------------+-----+----------+------------------+------+--------+------------------+-------------+-----------+---------+----------------+--------------+-------------+--------------------+-----+\n",
      "|emp_no|dept_no|emp_title_id|birth_date|first_name|  last_name|sex| hire_date|no_of_projects|last_performance_ratings|left1| last_date|         dept_name|salary|title_id|             title|dept_name_IDX|dept_no_IDX|title_IDX|dept_name_vector|dept_no_vector| title_vector|            features|label|\n",
      "+------+-------+------------+----------+----------+-----------+---+----------+--------------+------------------------+-----+----------+------------------+------+--------+------------------+-------------+-----------+---------+----------------+--------------+-------------+--------------------+-----+\n",
      "| 10002|   d007|       s0001|06-02-1964|   Bezalel|     Simmel|  F|11/21/1985|             8|                       B|false|          |             Sales| 65828|   s0001|             Staff|          2.0|        2.0|      0.0|   (8,[2],[1.0])| (8,[2],[1.0])|(6,[0],[1.0])|(24,[0,1,4,12,18]...|    0|\n",
      "| 10003|   d004|       e0003|12-03-1959|     Parto|    Bamford|  M| 8/28/1986|             1|                       C|false|          |        Production| 40006|   e0003|   Senior Engineer|          1.0|        1.0|      1.0|   (8,[1],[1.0])| (8,[1],[1.0])|(6,[1],[1.0])|(24,[0,1,3,11,19]...|    0|\n",
      "| 10004|   d004|       e0003|05-01-1954| Chirstian|    Koblick|  M|12-01-1986|             5|                       A|false|          |        Production| 40054|   e0003|   Senior Engineer|          1.0|        1.0|      1.0|   (8,[1],[1.0])| (8,[1],[1.0])|(6,[1],[1.0])|(24,[0,1,3,11,19]...|    0|\n",
      "| 10006|   d005|       e0003| 4/20/1953|    Anneke|    Preusig|  F|06-02-1989|            10|                       B|false|          |       development| 40000|   e0003|   Senior Engineer|          0.0|        0.0|      1.0|   (8,[0],[1.0])| (8,[0],[1.0])|(6,[1],[1.0])|(24,[0,1,2,10,19]...|    0|\n",
      "| 10010|   d006|       e0002|06-01-1963| Duangkaew|   Piveteau|  F| 8/24/1989|             4|                       A|false|          |Quality Management| 72488|   e0002|          Engineer|          6.0|        6.0|      2.0|   (8,[6],[1.0])| (8,[6],[1.0])|(6,[2],[1.0])|(24,[0,1,8,16,20]...|    0|\n",
      "| 10012|   d005|       e0003|10-04-1960|  Patricio|  Bridgland|  M|12/18/1992|             3|                       A|false|          |       development| 40000|   e0003|   Senior Engineer|          0.0|        0.0|      1.0|   (8,[0],[1.0])| (8,[0],[1.0])|(6,[1],[1.0])|(24,[0,1,2,10,19]...|    0|\n",
      "| 10013|   d003|       s0002|06-07-1963| Eberhardt|     Terkki|  M|10/20/1985|             6|                       C|false|          |   Human Resources| 40000|   s0002|      Senior Staff|          7.0|        7.0|      3.0|   (8,[7],[1.0])| (8,[7],[1.0])|(6,[3],[1.0])|(24,[0,1,9,17,21]...|    0|\n",
      "| 10014|   d005|       e0002|02-12-1956|     Berni|      Genin|  M|03-11-1987|             9|                       B|false|          |       development| 46168|   e0002|          Engineer|          0.0|        0.0|      2.0|   (8,[0],[1.0])| (8,[0],[1.0])|(6,[2],[1.0])|(24,[0,1,2,10,20]...|    0|\n",
      "| 10015|   d008|       s0002| 8/19/1959|  Guoxiang|  Nooteboom|  M|07-02-1987|             4|                       B|false|          |          Research| 40000|   s0002|      Senior Staff|          4.0|        4.0|      3.0|   (8,[4],[1.0])| (8,[4],[1.0])|(6,[3],[1.0])|(24,[0,1,6,14,21]...|    0|\n",
      "| 10016|   d007|       s0001|05-02-1961|  Kazuhito|Cappelletti|  M| 1/27/1995|             5|                       C|false|          |             Sales| 70889|   s0001|             Staff|          2.0|        2.0|      0.0|   (8,[2],[1.0])| (8,[2],[1.0])|(6,[0],[1.0])|(24,[0,1,4,12,18]...|    0|\n",
      "| 10017|   d001|       s0001|07-06-1958| Cristinel|  Bouloucos|  F|08-03-1993|            10|                       A|false|          |         Marketing| 71380|   s0001|             Staff|          5.0|        5.0|      0.0|   (8,[5],[1.0])| (8,[5],[1.0])|(6,[0],[1.0])|(24,[0,1,7,15,18]...|    0|\n",
      "| 10018|   d004|       e0003| 6/19/1954|  Kazuhide|       Peha|  F|04-03-1987|             4|                       B|false|          |        Production| 55881|   e0003|   Senior Engineer|          1.0|        1.0|      1.0|   (8,[1],[1.0])| (8,[1],[1.0])|(6,[1],[1.0])|(24,[0,1,3,11,19]...|    0|\n",
      "| 10019|   d008|       s0001| 1/23/1953|   Lillian|    Haddadi|  M| 4/30/1999|             4|                       B|false|          |          Research| 44276|   s0001|             Staff|          4.0|        4.0|      0.0|   (8,[4],[1.0])| (8,[4],[1.0])|(6,[0],[1.0])|(24,[0,1,6,14,18]...|    0|\n",
      "| 10022|   d005|       e0002|07-08-1952|    Shahaf|     Famili|  M| 8/22/1995|             9|                       B| true|11-04-2005|       development| 40000|   e0002|          Engineer|          0.0|        0.0|      2.0|   (8,[0],[1.0])| (8,[0],[1.0])|(6,[2],[1.0])|(24,[0,1,2,10,20]...|    1|\n",
      "| 10023|   d005|       e0002| 9/29/1953|     Bojan| Montemayor|  F|12/17/1989|             8|                       A|false|          |       development| 47883|   e0002|          Engineer|          0.0|        0.0|      2.0|   (8,[0],[1.0])| (8,[0],[1.0])|(6,[2],[1.0])|(24,[0,1,2,10,20]...|    0|\n",
      "| 10024|   d004|       e0001|09-05-1958|   Suzette|     Pettey|  F| 5/19/1997|             3|                       A|false|          |        Production| 83733|   e0001|Assistant Engineer|          1.0|        1.0|      5.0|   (8,[1],[1.0])| (8,[1],[1.0])|(6,[5],[1.0])|(24,[0,1,3,11,23]...|    0|\n",
      "| 10025|   d005|       e0004|10/31/1958| Prasadram|     Heyers|  M| 8/17/1987|             6|                       C|false|          |       development| 40000|   e0004|  Technique Leader|          0.0|        0.0|      4.0|   (8,[0],[1.0])| (8,[0],[1.0])|(6,[4],[1.0])|(24,[0,1,2,10,22]...|    0|\n",
      "| 10027|   d005|       e0003|07-10-1962|    Divier|    Reistad|  F|07-07-1989|            10|                       B|false|          |       development| 40000|   e0003|   Senior Engineer|          0.0|        0.0|      1.0|   (8,[0],[1.0])| (8,[0],[1.0])|(6,[1],[1.0])|(24,[0,1,2,10,19]...|    0|\n",
      "| 10029|   d004|       e0003|12/13/1956|     Otmar|     Herbst|  M|11/20/1985|             6|                       C|false|          |        Production| 63163|   e0003|   Senior Engineer|          1.0|        1.0|      1.0|   (8,[1],[1.0])| (8,[1],[1.0])|(6,[1],[1.0])|(24,[0,1,3,11,19]...|    0|\n",
      "| 10030|   d004|       e0003| 7/14/1958|     Elvis|    Demeyer|  M| 2/17/1994|            10|                       A|false|          |        Production| 66956|   e0003|   Senior Engineer|          1.0|        1.0|      1.0|   (8,[1],[1.0])| (8,[1],[1.0])|(6,[1],[1.0])|(24,[0,1,3,11,19]...|    0|\n",
      "+------+-------+------------+----------+----------+-----------+---+----------+--------------+------------------------+-----+----------+------------------+------+--------+------------------+-------------+-----------+---------+----------------+--------------+-------------+--------------------+-----+\n",
      "only showing top 20 rows\n",
      "\n"
     ]
    }
   ],
   "source": [
    "train_df.show()"
   ]
  },
  {
   "cell_type": "code",
   "execution_count": 63,
   "metadata": {},
   "outputs": [
    {
     "name": "stdout",
     "output_type": "stream",
     "text": [
      "+------+-------+------------+----------+----------+---------+---+----------+--------------+------------------------+-----+---------+------------------+------+--------+------------------+-------------+-----------+---------+----------------+--------------+-------------+--------------------+-----+\n",
      "|emp_no|dept_no|emp_title_id|birth_date|first_name|last_name|sex| hire_date|no_of_projects|last_performance_ratings|left1|last_date|         dept_name|salary|title_id|             title|dept_name_IDX|dept_no_IDX|title_IDX|dept_name_vector|dept_no_vector| title_vector|            features|label|\n",
      "+------+-------+------------+----------+----------+---------+---+----------+--------------+------------------------+-----+---------+------------------+------+--------+------------------+-------------+-----------+---------+----------------+--------------+-------------+--------------------+-----+\n",
      "| 10001|   d005|       e0003|09-02-1953|    Georgi|  Facello|  M| 6/26/1986|             9|                       C| true|7/30/1994|       development| 60117|   e0003|   Senior Engineer|          0.0|        0.0|      1.0|   (8,[0],[1.0])| (8,[0],[1.0])|(6,[1],[1.0])|(24,[0,1,2,10,19]...|    1|\n",
      "| 10005|   d003|       s0001| 1/21/1955|   Kyoichi| Maliniak|  M|09-12-1989|             6|                       A|false|         |   Human Resources| 78228|   s0001|             Staff|          7.0|        7.0|      0.0|   (8,[7],[1.0])| (8,[7],[1.0])|(6,[0],[1.0])|(24,[0,1,9,17,18]...|    0|\n",
      "| 10007|   d008|       s0001| 5/23/1957|   Tzvetan|Zielinski|  F|02-10-1989|             6|                       B| true|9/18/2002|          Research| 56724|   s0001|             Staff|          4.0|        4.0|      0.0|   (8,[4],[1.0])| (8,[4],[1.0])|(6,[0],[1.0])|(24,[0,1,6,14,18]...|    1|\n",
      "| 10008|   d005|       e0001| 2/19/1958|    Saniya| Kalloufi|  M| 9/15/1994|             9|                       C|false|         |       development| 46671|   e0001|Assistant Engineer|          0.0|        0.0|      5.0|   (8,[0],[1.0])| (8,[0],[1.0])|(6,[5],[1.0])|(24,[0,1,2,10,23]...|    0|\n",
      "| 10009|   d006|       e0003| 4/19/1952|    Sumant|     Peac|  F| 2/18/1985|             8|                       B|false|         |Quality Management| 60929|   e0003|   Senior Engineer|          6.0|        6.0|      1.0|   (8,[6],[1.0])| (8,[6],[1.0])|(6,[1],[1.0])|(24,[0,1,8,16,19]...|    0|\n",
      "| 10010|   d004|       e0002|06-01-1963| Duangkaew| Piveteau|  F| 8/24/1989|             4|                       A|false|         |        Production| 72488|   e0002|          Engineer|          1.0|        1.0|      2.0|   (8,[1],[1.0])| (8,[1],[1.0])|(6,[2],[1.0])|(24,[0,1,3,11,20]...|    0|\n",
      "| 10011|   d009|       s0001|11-07-1953|      Mary|    Sluis|  F| 1/22/1990|             6|                       C|false|         |  Customer Service| 42365|   s0001|             Staff|          3.0|        3.0|      0.0|   (8,[3],[1.0])| (8,[3],[1.0])|(6,[0],[1.0])|(24,[0,1,5,13,18]...|    0|\n",
      "| 10018|   d005|       e0003| 6/19/1954|  Kazuhide|     Peha|  F|04-03-1987|             4|                       B|false|         |       development| 55881|   e0003|   Senior Engineer|          0.0|        0.0|      1.0|   (8,[0],[1.0])| (8,[0],[1.0])|(6,[1],[1.0])|(24,[0,1,2,10,19]...|    0|\n",
      "| 10020|   d004|       e0002|12/24/1952|    Mayuko|  Warwick|  M| 1/26/1991|             7|                       B|false|         |        Production| 40000|   e0002|          Engineer|          1.0|        1.0|      2.0|   (8,[1],[1.0])| (8,[1],[1.0])|(6,[2],[1.0])|(24,[0,1,3,11,20]...|    0|\n",
      "| 10021|   d005|       e0004| 2/20/1960|     Ramzi|     Erde|  M|02-10-1988|             1|                       B|false|         |       development| 55025|   e0004|  Technique Leader|          0.0|        0.0|      4.0|   (8,[0],[1.0])| (8,[0],[1.0])|(6,[4],[1.0])|(24,[0,1,2,10,22]...|    0|\n",
      "| 10026|   d004|       e0003|04-03-1953|  Yongqiao| Berztiss|  M| 3/20/1995|             1|                     PIP|false|         |        Production| 47585|   e0003|   Senior Engineer|          1.0|        1.0|      1.0|   (8,[1],[1.0])| (8,[1],[1.0])|(6,[1],[1.0])|(24,[0,1,3,11,19]...|    0|\n",
      "| 10028|   d005|       e0002|11/26/1963|  Domenick| Tempesti|  M|10/22/1991|             8|                       B|false|         |       development| 48859|   e0002|          Engineer|          0.0|        0.0|      2.0|   (8,[0],[1.0])| (8,[0],[1.0])|(6,[2],[1.0])|(24,[0,1,2,10,20]...|    0|\n",
      "| 10029|   d006|       e0003|12/13/1956|     Otmar|   Herbst|  M|11/20/1985|             6|                       C|false|         |Quality Management| 63163|   e0003|   Senior Engineer|          6.0|        6.0|      1.0|   (8,[6],[1.0])| (8,[6],[1.0])|(6,[1],[1.0])|(24,[0,1,8,16,19]...|    0|\n",
      "| 10033|   d006|       e0004|11/14/1956|      Arif|    Merlo|  M| 3/18/1987|             9|                       A|false|         |Quality Management| 51258|   e0004|  Technique Leader|          6.0|        6.0|      4.0|   (8,[6],[1.0])| (8,[6],[1.0])|(6,[4],[1.0])|(24,[0,1,8,16,22]...|    0|\n",
      "| 10036|   d003|       s0002|08-10-1959|Adamantios|Portugali|  M|01-03-1992|             5|                       C|false|         |   Human Resources| 42819|   s0002|      Senior Staff|          7.0|        7.0|      3.0|   (8,[7],[1.0])| (8,[7],[1.0])|(6,[3],[1.0])|(24,[0,1,9,17,21]...|    0|\n",
      "| 10040|   d005|       e0003| 9/13/1959|     Weiyi|  Meriste|  F| 2/14/1993|             6|                       A|false|         |       development| 52153|   e0003|   Senior Engineer|          0.0|        0.0|      1.0|   (8,[0],[1.0])| (8,[0],[1.0])|(6,[1],[1.0])|(24,[0,1,2,10,19]...|    0|\n",
      "| 10043|   d005|       e0003| 9/19/1960|    Yishay|  Tzvieli|  M|10/20/1990|             6|                       C|false|         |       development| 49324|   e0003|   Senior Engineer|          0.0|        0.0|      1.0|   (8,[0],[1.0])| (8,[0],[1.0])|(6,[1],[1.0])|(24,[0,1,2,10,19]...|    0|\n",
      "| 10044|   d004|       e0004| 9/21/1961|   Mingsen|   Casley|  F| 5/21/1994|             1|                       C|false|         |        Production| 40919|   e0004|  Technique Leader|          1.0|        1.0|      4.0|   (8,[1],[1.0])| (8,[1],[1.0])|(6,[4],[1.0])|(24,[0,1,3,11,22]...|    0|\n",
      "| 10047|   d004|       e0003| 6/29/1952|    Zvonko|Nyanchama|  M| 3/31/1989|            10|                       C| true|4/23/1991|        Production| 54982|   e0003|   Senior Engineer|          1.0|        1.0|      1.0|   (8,[1],[1.0])| (8,[1],[1.0])|(6,[1],[1.0])|(24,[0,1,3,11,19]...|    1|\n",
      "| 10050|   d002|       s0001| 5/21/1958|   Yinghua|   Dredge|  M|12/25/1990|             6|                       C|false|         |           Finance| 74366|   s0001|             Staff|          8.0|        8.0|      0.0|       (8,[],[])|     (8,[],[])|(6,[0],[1.0])|(24,[0,1,18],[743...|    0|\n",
      "+------+-------+------------+----------+----------+---------+---+----------+--------------+------------------------+-----+---------+------------------+------+--------+------------------+-------------+-----------+---------+----------------+--------------+-------------+--------------------+-----+\n",
      "only showing top 20 rows\n",
      "\n"
     ]
    }
   ],
   "source": [
    "test_df.show()"
   ]
  },
  {
   "cell_type": "code",
   "execution_count": 64,
   "metadata": {},
   "outputs": [],
   "source": [
    "\n",
    "from pyspark.ml.classification import LogisticRegression"
   ]
  },
  {
   "cell_type": "code",
   "execution_count": 65,
   "metadata": {},
   "outputs": [],
   "source": [
    "lreg=LogisticRegression()\n"
   ]
  },
  {
   "cell_type": "code",
   "execution_count": 66,
   "metadata": {},
   "outputs": [],
   "source": [
    "model=lreg.fit( train_df)"
   ]
  },
  {
   "cell_type": "code",
   "execution_count": 67,
   "metadata": {},
   "outputs": [],
   "source": [
    "###making the predictions on train_data\n",
    "\n",
    "Y_pred_train=model.transform(train_df)\n",
    "Y_pred_test=model.transform(test_df)"
   ]
  },
  {
   "cell_type": "code",
   "execution_count": 68,
   "metadata": {},
   "outputs": [
    {
     "name": "stdout",
     "output_type": "stream",
     "text": [
      "+------+-------+------------+----------+----------+-----------+---+----------+--------------+------------------------+-----+----------+------------------+------+--------+------------------+-------------+-----------+---------+----------------+--------------+-------------+--------------------+-----+--------------------+--------------------+----------+\n",
      "|emp_no|dept_no|emp_title_id|birth_date|first_name|  last_name|sex| hire_date|no_of_projects|last_performance_ratings|left1| last_date|         dept_name|salary|title_id|             title|dept_name_IDX|dept_no_IDX|title_IDX|dept_name_vector|dept_no_vector| title_vector|            features|label|       rawPrediction|         probability|prediction|\n",
      "+------+-------+------------+----------+----------+-----------+---+----------+--------------+------------------------+-----+----------+------------------+------+--------+------------------+-------------+-----------+---------+----------------+--------------+-------------+--------------------+-----+--------------------+--------------------+----------+\n",
      "| 10002|   d007|       s0001|06-02-1964|   Bezalel|     Simmel|  F|11/21/1985|             8|                       B|false|          |             Sales| 65828|   s0001|             Staff|          2.0|        2.0|      0.0|   (8,[2],[1.0])| (8,[2],[1.0])|(6,[0],[1.0])|(24,[0,1,4,12,18]...|    0|[2.1769885933325,...|[0.89816396248293...|       0.0|\n",
      "| 10003|   d004|       e0003|12-03-1959|     Parto|    Bamford|  M| 8/28/1986|             1|                       C|false|          |        Production| 40006|   e0003|   Senior Engineer|          1.0|        1.0|      1.0|   (8,[1],[1.0])| (8,[1],[1.0])|(6,[1],[1.0])|(24,[0,1,3,11,19]...|    0|[2.20142117078040...|[0.90037705990973...|       0.0|\n",
      "| 10004|   d004|       e0003|05-01-1954| Chirstian|    Koblick|  M|12-01-1986|             5|                       A|false|          |        Production| 40054|   e0003|   Senior Engineer|          1.0|        1.0|      1.0|   (8,[1],[1.0])| (8,[1],[1.0])|(6,[1],[1.0])|(24,[0,1,3,11,19]...|    0|[2.18838650928179...|[0.89920175710106...|       0.0|\n",
      "| 10006|   d005|       e0003| 4/20/1953|    Anneke|    Preusig|  F|06-02-1989|            10|                       B|false|          |       development| 40000|   e0003|   Senior Engineer|          0.0|        0.0|      1.0|   (8,[0],[1.0])| (8,[0],[1.0])|(6,[1],[1.0])|(24,[0,1,2,10,19]...|    0|[2.19219355608504...|[0.89954629600660...|       0.0|\n",
      "| 10010|   d006|       e0002|06-01-1963| Duangkaew|   Piveteau|  F| 8/24/1989|             4|                       A|false|          |Quality Management| 72488|   e0002|          Engineer|          6.0|        6.0|      2.0|   (8,[6],[1.0])| (8,[6],[1.0])|(6,[2],[1.0])|(24,[0,1,8,16,20]...|    0|[2.23671089106494...|[0.90349806348845...|       0.0|\n",
      "| 10012|   d005|       e0003|10-04-1960|  Patricio|  Bridgland|  M|12/18/1992|             3|                       A|false|          |       development| 40000|   e0003|   Senior Engineer|          0.0|        0.0|      1.0|   (8,[0],[1.0])| (8,[0],[1.0])|(6,[1],[1.0])|(24,[0,1,2,10,19]...|    0|[2.21512667741441...|[0.90159969115171...|       0.0|\n",
      "| 10013|   d003|       s0002|06-07-1963| Eberhardt|     Terkki|  M|10/20/1985|             6|                       C|false|          |   Human Resources| 40000|   s0002|      Senior Staff|          7.0|        7.0|      3.0|   (8,[7],[1.0])| (8,[7],[1.0])|(6,[3],[1.0])|(24,[0,1,9,17,21]...|    0|[2.23123729552637...|[0.90301976929578...|       0.0|\n",
      "| 10014|   d005|       e0002|02-12-1956|     Berni|      Genin|  M|03-11-1987|             9|                       B|false|          |       development| 46168|   e0002|          Engineer|          0.0|        0.0|      2.0|   (8,[0],[1.0])| (8,[0],[1.0])|(6,[2],[1.0])|(24,[0,1,2,10,20]...|    0|[2.21228706591352...|[0.90134747993540...|       0.0|\n",
      "| 10015|   d008|       s0002| 8/19/1959|  Guoxiang|  Nooteboom|  M|07-02-1987|             4|                       B|false|          |          Research| 40000|   s0002|      Senior Staff|          4.0|        4.0|      3.0|   (8,[4],[1.0])| (8,[4],[1.0])|(6,[3],[1.0])|(24,[0,1,6,14,21]...|    0|[2.26808957327583...|[0.90619952373984...|       0.0|\n",
      "| 10016|   d007|       s0001|05-02-1961|  Kazuhito|Cappelletti|  M| 1/27/1995|             5|                       C|false|          |             Sales| 70889|   s0001|             Staff|          2.0|        2.0|      0.0|   (8,[2],[1.0])| (8,[2],[1.0])|(6,[0],[1.0])|(24,[0,1,4,12,18]...|    0|[2.19419551223786...|[0.89972705364092...|       0.0|\n",
      "| 10017|   d001|       s0001|07-06-1958| Cristinel|  Bouloucos|  F|08-03-1993|            10|                       A|false|          |         Marketing| 71380|   s0001|             Staff|          5.0|        5.0|      0.0|   (8,[5],[1.0])| (8,[5],[1.0])|(6,[0],[1.0])|(24,[0,1,7,15,18]...|    0|[2.23124919571492...|[0.90302081145058...|       0.0|\n",
      "| 10018|   d004|       e0003| 6/19/1954|  Kazuhide|       Peha|  F|04-03-1987|             4|                       B|false|          |        Production| 55881|   e0003|   Senior Engineer|          1.0|        1.0|      1.0|   (8,[1],[1.0])| (8,[1],[1.0])|(6,[1],[1.0])|(24,[0,1,3,11,19]...|    0|[2.21473687289751...|[0.90156510318203...|       0.0|\n",
      "| 10019|   d008|       s0001| 1/23/1953|   Lillian|    Haddadi|  M| 4/30/1999|             4|                       B|false|          |          Research| 44276|   s0001|             Staff|          4.0|        4.0|      0.0|   (8,[4],[1.0])| (8,[4],[1.0])|(6,[0],[1.0])|(24,[0,1,6,14,18]...|    0|[2.22311520839987...|[0.90230614495570...|       0.0|\n",
      "| 10022|   d005|       e0002|07-08-1952|    Shahaf|     Famili|  M| 8/22/1995|             9|                       B| true|11-04-2005|       development| 40000|   e0002|          Engineer|          0.0|        0.0|      2.0|   (8,[0],[1.0])| (8,[0],[1.0])|(6,[2],[1.0])|(24,[0,1,2,10,20]...|    1|[2.20329473087022...|[0.90054498887817...|       0.0|\n",
      "| 10023|   d005|       e0002| 9/29/1953|     Bojan| Montemayor|  F|12/17/1989|             8|                       A|false|          |       development| 47883|   e0002|          Engineer|          0.0|        0.0|      2.0|   (8,[0],[1.0])| (8,[0],[1.0])|(6,[2],[1.0])|(24,[0,1,2,10,20]...|    0|[2.21806352678424...|[0.90185993451010...|       0.0|\n",
      "| 10024|   d004|       e0001|09-05-1958|   Suzette|     Pettey|  F| 5/19/1997|             3|                       A|false|          |        Production| 83733|   e0001|Assistant Engineer|          1.0|        1.0|      5.0|   (8,[1],[1.0])| (8,[1],[1.0])|(6,[5],[1.0])|(24,[0,1,3,11,23]...|    0|[2.24493632171721...|[0.90421285674434...|       0.0|\n",
      "| 10025|   d005|       e0004|10/31/1958| Prasadram|     Heyers|  M| 8/17/1987|             6|                       C|false|          |       development| 40000|   e0004|  Technique Leader|          0.0|        0.0|      4.0|   (8,[0],[1.0])| (8,[0],[1.0])|(6,[4],[1.0])|(24,[0,1,2,10,22]...|    0|[2.15569484586911...|[0.89619974085365...|       0.0|\n",
      "| 10027|   d005|       e0003|07-10-1962|    Divier|    Reistad|  F|07-07-1989|            10|                       B|false|          |       development| 40000|   e0003|   Senior Engineer|          0.0|        0.0|      1.0|   (8,[0],[1.0])| (8,[0],[1.0])|(6,[1],[1.0])|(24,[0,1,2,10,19]...|    0|[2.19219355608504...|[0.89954629600660...|       0.0|\n",
      "| 10029|   d004|       e0003|12/13/1956|     Otmar|     Herbst|  M|11/20/1985|             6|                       C|false|          |        Production| 63163|   e0003|   Senior Engineer|          1.0|        1.0|      1.0|   (8,[1],[1.0])| (8,[1],[1.0])|(6,[1],[1.0])|(24,[0,1,3,11,19]...|    0|[2.21880098957757...|[0.90192518696339...|       0.0|\n",
      "| 10030|   d004|       e0003| 7/14/1958|     Elvis|    Demeyer|  M| 2/17/1994|            10|                       A|false|          |        Production| 66956|   e0003|   Senior Engineer|          1.0|        1.0|      1.0|   (8,[1],[1.0])| (8,[1],[1.0])|(6,[1],[1.0])|(24,[0,1,3,11,19]...|    0|[2.21122616834115...|[0.90125310453560...|       0.0|\n",
      "+------+-------+------------+----------+----------+-----------+---+----------+--------------+------------------------+-----+----------+------------------+------+--------+------------------+-------------+-----------+---------+----------------+--------------+-------------+--------------------+-----+--------------------+--------------------+----------+\n",
      "only showing top 20 rows\n",
      "\n"
     ]
    }
   ],
   "source": [
    "Y_pred_train.show()"
   ]
  },
  {
   "cell_type": "code",
   "execution_count": 69,
   "metadata": {},
   "outputs": [
    {
     "name": "stdout",
     "output_type": "stream",
     "text": [
      "+--------------------+-----+----------+\n",
      "|            features|label|prediction|\n",
      "+--------------------+-----+----------+\n",
      "|(24,[0,1,2,10,19]...|    1|       0.0|\n",
      "|(24,[0,1,9,17,18]...|    0|       0.0|\n",
      "|(24,[0,1,6,14,18]...|    1|       0.0|\n",
      "|(24,[0,1,2,10,23]...|    0|       0.0|\n",
      "|(24,[0,1,8,16,19]...|    0|       0.0|\n",
      "|(24,[0,1,3,11,20]...|    0|       0.0|\n",
      "|(24,[0,1,5,13,18]...|    0|       0.0|\n",
      "|(24,[0,1,2,10,19]...|    0|       0.0|\n",
      "|(24,[0,1,3,11,20]...|    0|       0.0|\n",
      "|(24,[0,1,2,10,22]...|    0|       0.0|\n",
      "|(24,[0,1,3,11,19]...|    0|       0.0|\n",
      "|(24,[0,1,2,10,20]...|    0|       0.0|\n",
      "|(24,[0,1,8,16,19]...|    0|       0.0|\n",
      "|(24,[0,1,8,16,22]...|    0|       0.0|\n",
      "|(24,[0,1,9,17,21]...|    0|       0.0|\n",
      "|(24,[0,1,2,10,19]...|    0|       0.0|\n",
      "|(24,[0,1,2,10,19]...|    0|       0.0|\n",
      "|(24,[0,1,3,11,22]...|    0|       0.0|\n",
      "|(24,[0,1,3,11,19]...|    1|       0.0|\n",
      "|(24,[0,1,18],[743...|    0|       0.0|\n",
      "+--------------------+-----+----------+\n",
      "only showing top 20 rows\n",
      "\n"
     ]
    }
   ],
   "source": [
    "Y_pred_test.select(\"features\",\"label\",\"prediction\").show()"
   ]
  },
  {
   "cell_type": "code",
   "execution_count": 70,
   "metadata": {},
   "outputs": [],
   "source": [
    "from pyspark.ml.classification import GBTClassifier\n",
    "gbt = GBTClassifier(maxIter = 10,featuresCol='features',labelCol='label')\n",
    "GBT_model = gbt.fit(train_df)\n",
    "\n",
    "predictions = GBT_model.transform(test_df)"
   ]
  },
  {
   "cell_type": "code",
   "execution_count": 71,
   "metadata": {},
   "outputs": [],
   "source": [
    "from pyspark.ml.evaluation import MulticlassClassificationEvaluator"
   ]
  },
  {
   "cell_type": "code",
   "execution_count": 72,
   "metadata": {},
   "outputs": [],
   "source": [
    "evaluation=MulticlassClassificationEvaluator(labelCol=\"label\",predictionCol=\"prediction\",metricName=\"accuracy\")"
   ]
  },
  {
   "cell_type": "code",
   "execution_count": 73,
   "metadata": {},
   "outputs": [
    {
     "data": {
      "text/plain": [
       "0.8992063331785044"
      ]
     },
     "execution_count": 73,
     "metadata": {},
     "output_type": "execute_result"
    }
   ],
   "source": [
    "accuracy=evaluation.evaluate(predictions)\n",
    "accuracy"
   ]
  },
  {
   "cell_type": "code",
   "execution_count": 108,
   "metadata": {},
   "outputs": [
    {
     "data": {
      "text/plain": [
       "(['dept_name', 'dept_no', 'title'], ['salary', 'no_of_projects'])"
      ]
     },
     "execution_count": 108,
     "metadata": {},
     "output_type": "execute_result"
    }
   ],
   "source": [
    "categorical_feature,numerical_feature"
   ]
  },
  {
   "cell_type": "code",
   "execution_count": 115,
   "metadata": {},
   "outputs": [],
   "source": [
    "from pyspark.ml.feature import StringIndexer,OneHotEncoder,VectorAssembler\n",
    "from pyspark.ml import Pipeline\n",
    "from pyspark.ml.regression import LinearRegression"
   ]
  },
  {
   "cell_type": "code",
   "execution_count": 117,
   "metadata": {},
   "outputs": [],
   "source": [
    "#create indexers for the categorical features\n",
    "indexers=[StringIndexer(inputCol=c,outputCol=\"{}_idx\".format(c)) for c in categorical_feature]\n"
   ]
  },
  {
   "cell_type": "code",
   "execution_count": 118,
   "metadata": {},
   "outputs": [],
   "source": [
    "##encode the categorical features\n",
    "\n",
    "encoders=[OneHotEncoder(inputCol=idx.getOutputCol(),outputCol=\"{0}_enc\".format(idx.getOutputCol())) for idx in indexers]"
   ]
  },
  {
   "cell_type": "code",
   "execution_count": 121,
   "metadata": {},
   "outputs": [],
   "source": [
    "##create vectors for all the features categorical and continious\n",
    "\n",
    "assembler=VectorAssembler(inputCols=[enc.getOutputCol() for enc in encoders]+numerical_feature,outputCol=\"features\")"
   ]
  },
  {
   "cell_type": "code",
   "execution_count": 125,
   "metadata": {},
   "outputs": [],
   "source": [
    "##initiate the linear model\n",
    "\n",
    "lrModel=LogisticRegression(maxIter=10)"
   ]
  },
  {
   "cell_type": "code",
   "execution_count": 160,
   "metadata": {},
   "outputs": [],
   "source": [
    "##create the pipeline with all the above stages\n",
    "\n",
    "pipeline=Pipeline(stages=[\"indexers\",\"encoders\",\"assembler\",\"lrModel\"])"
   ]
  },
  {
   "cell_type": "code",
   "execution_count": 148,
   "metadata": {},
   "outputs": [],
   "source": [
    "dataset=emp_df.join(dept_emp_df,on=\"emp_no\",how='left').join(department_df,on=\"dept_no\",how=\"left\").join(salaries_df,on=\"emp_no\",how=\"left\").join(title_df,emp_df.emp_title_id==title_df.title_id,\"left\")"
   ]
  },
  {
   "cell_type": "code",
   "execution_count": 162,
   "metadata": {},
   "outputs": [],
   "source": [
    "training,testing=dataset.randomSplit([0.8,0.2],seed=144)"
   ]
  },
  {
   "cell_type": "code",
   "execution_count": 152,
   "metadata": {},
   "outputs": [
    {
     "name": "stdout",
     "output_type": "stream",
     "text": [
      "+------+-------+------------+----------+----------+-----------+---+----------+--------------+------------------------+-----+----------+------------------+------+--------+------------------+\n",
      "|emp_no|dept_no|emp_title_id|birth_date|first_name|  last_name|sex| hire_date|no_of_projects|last_performance_ratings|left1| last_date|         dept_name|salary|title_id|             title|\n",
      "+------+-------+------------+----------+----------+-----------+---+----------+--------------+------------------------+-----+----------+------------------+------+--------+------------------+\n",
      "| 10001|   d005|       e0003|09-02-1953|    Georgi|    Facello|  M| 6/26/1986|             9|                       C| true| 7/30/1994|       development| 60117|   e0003|   Senior Engineer|\n",
      "| 10002|   d007|       s0001|06-02-1964|   Bezalel|     Simmel|  F|11/21/1985|             8|                       B|false|          |             Sales| 65828|   s0001|             Staff|\n",
      "| 10004|   d004|       e0003|05-01-1954| Chirstian|    Koblick|  M|12-01-1986|             5|                       A|false|          |        Production| 40054|   e0003|   Senior Engineer|\n",
      "| 10005|   d003|       s0001| 1/21/1955|   Kyoichi|   Maliniak|  M|09-12-1989|             6|                       A|false|          |   Human Resources| 78228|   s0001|             Staff|\n",
      "| 10006|   d005|       e0003| 4/20/1953|    Anneke|    Preusig|  F|06-02-1989|            10|                       B|false|          |       development| 40000|   e0003|   Senior Engineer|\n",
      "| 10007|   d008|       s0001| 5/23/1957|   Tzvetan|  Zielinski|  F|02-10-1989|             6|                       B| true| 9/18/2002|          Research| 56724|   s0001|             Staff|\n",
      "| 10008|   d005|       e0001| 2/19/1958|    Saniya|   Kalloufi|  M| 9/15/1994|             9|                       C|false|          |       development| 46671|   e0001|Assistant Engineer|\n",
      "| 10010|   d006|       e0002|06-01-1963| Duangkaew|   Piveteau|  F| 8/24/1989|             4|                       A|false|          |Quality Management| 72488|   e0002|          Engineer|\n",
      "| 10012|   d005|       e0003|10-04-1960|  Patricio|  Bridgland|  M|12/18/1992|             3|                       A|false|          |       development| 40000|   e0003|   Senior Engineer|\n",
      "| 10013|   d003|       s0002|06-07-1963| Eberhardt|     Terkki|  M|10/20/1985|             6|                       C|false|          |   Human Resources| 40000|   s0002|      Senior Staff|\n",
      "| 10014|   d005|       e0002|02-12-1956|     Berni|      Genin|  M|03-11-1987|             9|                       B|false|          |       development| 46168|   e0002|          Engineer|\n",
      "| 10015|   d008|       s0002| 8/19/1959|  Guoxiang|  Nooteboom|  M|07-02-1987|             4|                       B|false|          |          Research| 40000|   s0002|      Senior Staff|\n",
      "| 10016|   d007|       s0001|05-02-1961|  Kazuhito|Cappelletti|  M| 1/27/1995|             5|                       C|false|          |             Sales| 70889|   s0001|             Staff|\n",
      "| 10017|   d001|       s0001|07-06-1958| Cristinel|  Bouloucos|  F|08-03-1993|            10|                       A|false|          |         Marketing| 71380|   s0001|             Staff|\n",
      "| 10018|   d004|       e0003| 6/19/1954|  Kazuhide|       Peha|  F|04-03-1987|             4|                       B|false|          |        Production| 55881|   e0003|   Senior Engineer|\n",
      "| 10018|   d005|       e0003| 6/19/1954|  Kazuhide|       Peha|  F|04-03-1987|             4|                       B|false|          |       development| 55881|   e0003|   Senior Engineer|\n",
      "| 10019|   d008|       s0001| 1/23/1953|   Lillian|    Haddadi|  M| 4/30/1999|             4|                       B|false|          |          Research| 44276|   s0001|             Staff|\n",
      "| 10021|   d005|       e0004| 2/20/1960|     Ramzi|       Erde|  M|02-10-1988|             1|                       B|false|          |       development| 55025|   e0004|  Technique Leader|\n",
      "| 10022|   d005|       e0002|07-08-1952|    Shahaf|     Famili|  M| 8/22/1995|             9|                       B| true|11-04-2005|       development| 40000|   e0002|          Engineer|\n",
      "| 10024|   d004|       e0001|09-05-1958|   Suzette|     Pettey|  F| 5/19/1997|             3|                       A|false|          |        Production| 83733|   e0001|Assistant Engineer|\n",
      "+------+-------+------------+----------+----------+-----------+---+----------+--------------+------------------------+-----+----------+------------------+------+--------+------------------+\n",
      "only showing top 20 rows\n",
      "\n"
     ]
    }
   ],
   "source": [
    "training.show()"
   ]
  },
  {
   "cell_type": "code",
   "execution_count": null,
   "metadata": {},
   "outputs": [],
   "source": []
  },
  {
   "cell_type": "code",
   "execution_count": null,
   "metadata": {},
   "outputs": [],
   "source": []
  }
 ],
 "metadata": {
  "kernelspec": {
   "display_name": "Python 3",
   "language": "python",
   "name": "python3"
  },
  "language_info": {
   "codemirror_mode": {
    "name": "ipython",
    "version": 3
   },
   "file_extension": ".py",
   "mimetype": "text/x-python",
   "name": "python",
   "nbconvert_exporter": "python",
   "pygments_lexer": "ipython3",
   "version": "3.7.6"
  }
 },
 "nbformat": 4,
 "nbformat_minor": 4
}
