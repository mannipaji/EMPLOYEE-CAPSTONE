{
 "cells": [
  {
   "cell_type": "code",
   "execution_count": 32,
   "metadata": {},
   "outputs": [],
   "source": [
    "from pyspark.sql import SparkSession\n",
    "spark=(SparkSession.builder.appName(\"ML_PIPELINE\")\\\n",
    "       .config(\"hive.metastore.uris\",\"thrift://ip-10-1-2-24.ap-south-1.compute.internal:9083\")\\\n",
    "       .enableHiveSupport().getOrCreate())"
   ]
  },
  {
   "cell_type": "code",
   "execution_count": 33,
   "metadata": {},
   "outputs": [
    {
     "data": {
      "text/html": [
       "\n",
       "            <div>\n",
       "                <p><b>SparkSession - hive</b></p>\n",
       "                \n",
       "        <div>\n",
       "            <p><b>SparkContext</b></p>\n",
       "\n",
       "            <p><a href=\"http://ip-10-1-1-204.ap-south-1.compute.internal:43028\">Spark UI</a></p>\n",
       "\n",
       "            <dl>\n",
       "              <dt>Version</dt>\n",
       "                <dd><code>v2.4.0</code></dd>\n",
       "              <dt>Master</dt>\n",
       "                <dd><code>local[*]</code></dd>\n",
       "              <dt>AppName</dt>\n",
       "                <dd><code>ML_PIPELINE</code></dd>\n",
       "            </dl>\n",
       "        </div>\n",
       "        \n",
       "            </div>\n",
       "        "
      ],
      "text/plain": [
       "<pyspark.sql.session.SparkSession at 0x7fb572cf75d0>"
      ]
     },
     "execution_count": 33,
     "metadata": {},
     "output_type": "execute_result"
    }
   ],
   "source": [
    "spark"
   ]
  },
  {
   "cell_type": "code",
   "execution_count": 34,
   "metadata": {},
   "outputs": [
    {
     "name": "stdout",
     "output_type": "stream",
     "text": [
      "+------+-----------+----------+---+------+\n",
      "|emp_no|  last_name|first_name|sex|salary|\n",
      "+------+-----------+----------+---+------+\n",
      "| 10001|    Facello|    Georgi|  M| 60117|\n",
      "| 10002|     Simmel|   Bezalel|  F| 65828|\n",
      "| 10003|    Bamford|     Parto|  M| 40006|\n",
      "| 10004|    Koblick| Chirstian|  M| 40054|\n",
      "| 10005|   Maliniak|   Kyoichi|  M| 78228|\n",
      "| 10006|    Preusig|    Anneke|  F| 40000|\n",
      "| 10007|  Zielinski|   Tzvetan|  F| 56724|\n",
      "| 10008|   Kalloufi|    Saniya|  M| 46671|\n",
      "| 10009|       Peac|    Sumant|  F| 60929|\n",
      "| 10010|   Piveteau| Duangkaew|  F| 72488|\n",
      "| 10011|      Sluis|      Mary|  F| 42365|\n",
      "| 10012|  Bridgland|  Patricio|  M| 40000|\n",
      "| 10013|     Terkki| Eberhardt|  M| 40000|\n",
      "| 10014|      Genin|     Berni|  M| 46168|\n",
      "| 10015|  Nooteboom|  Guoxiang|  M| 40000|\n",
      "| 10016|Cappelletti|  Kazuhito|  M| 70889|\n",
      "| 10017|  Bouloucos| Cristinel|  F| 71380|\n",
      "| 10018|       Peha|  Kazuhide|  F| 55881|\n",
      "| 10019|    Haddadi|   Lillian|  M| 44276|\n",
      "| 10020|    Warwick|    Mayuko|  M| 40000|\n",
      "+------+-----------+----------+---+------+\n",
      "only showing top 20 rows\n",
      "\n"
     ]
    }
   ],
   "source": [
    "##question no 1-A list showing employee number, last name, first name, sex, and salary for each employee\n",
    "\n",
    "\n",
    "spark.sql(\"select s.emp_no, e.last_name, e.first_name, e.sex, s.salary from employees as e inner join salaries as s on s.emp_no = e.emp_no order by s.emp_no\").show()"
   ]
  },
  {
   "cell_type": "code",
   "execution_count": 116,
   "metadata": {},
   "outputs": [
    {
     "name": "stdout",
     "output_type": "stream",
     "text": [
      "+------------+----------+----------+\n",
      "|   last_name|first_name| hire_date|\n",
      "+------------+----------+----------+\n",
      "|     Facello|    Georgi| 6/26/1986|\n",
      "|     Bamford|     Parto| 8/28/1986|\n",
      "|     Koblick| Chirstian| 12/1/1986|\n",
      "|    Zschoche|    Sanjiv|  2/4/1986|\n",
      "|    Schusler|      Kwee| 2/26/1986|\n",
      "|        Gils|   Kshitij| 3/27/1986|\n",
      "|       Rosen|  Zhongwei|10/30/1986|\n",
      "|     Eugenio|   Xinglin|  9/8/1986|\n",
      "|Flasterstein| Sudharsan| 8/12/1986|\n",
      "|     Hofting|    Kendra| 3/14/1986|\n",
      "|      Morton|    Hilari| 7/15/1986|\n",
      "|       Birch|     Akemi| 12/2/1986|\n",
      "|      Giveon|    Lunjin| 10/2/1986|\n",
      "|      Ullian|    Xuejia| 8/22/1986|\n",
      "|    Rissland|   Chikara| 1/23/1986|\n",
      "|    Peltason|  Domenick| 3/14/1986|\n",
      "|    Pintelas|    Zissis| 2/11/1986|\n",
      "|   Shimshoni|     Perry| 9/18/1986|\n",
      "| Encarnacion|  Kazuhito| 8/21/1986|\n",
      "|       Perry|   Xiadong| 11/5/1986|\n",
      "+------------+----------+----------+\n",
      "only showing top 20 rows\n",
      "\n"
     ]
    }
   ],
   "source": [
    "##question 2-- A list showing first name, last name, and hire date for employees who were hired in 1986.\n",
    "\n",
    "\n",
    "spark.sql(\"SELECT  last_name, first_name, hire_date  FROM employees WHERE hire_date LIKE '%1986%'\").show()\n"
   ]
  },
  {
   "cell_type": "code",
   "execution_count": 36,
   "metadata": {},
   "outputs": [
    {
     "name": "stdout",
     "output_type": "stream",
     "text": [
      "+-------+--------------------+------+-----------+------------+\n",
      "|dept_no|           dept_name|emp_no| first_name|   last_name|\n",
      "+-------+--------------------+------+-----------+------------+\n",
      "|   d001|         \"Marketing\"|110022|  Margareta|  Markovitch|\n",
      "|   d001|         \"Marketing\"|110039|   Vishwani|    Minakawa|\n",
      "|   d002|           \"Finance\"|110085|       Ebru|       Alpin|\n",
      "|   d002|           \"Finance\"|110114|      Isamu|  Legleitner|\n",
      "|   d003|   \"Human Resources\"|110183|    Shirish|Ossenbruggen|\n",
      "|   d003|   \"Human Resources\"|110228|    Karsten|     Sigstam|\n",
      "|   d004|        \"Production\"|110303|  Krassimir|     Wegerle|\n",
      "|   d004|        \"Production\"|110344|     Rosine|       Cools|\n",
      "|   d004|        \"Production\"|110386|       Shem|      Kieras|\n",
      "|   d004|        \"Production\"|110420|      Oscar|    Ghazalie|\n",
      "|   d005|       \"development\"|110511|   DeForest|    Hagimont|\n",
      "|   d005|       \"development\"|110567|       Leon|    DasSarma|\n",
      "|   d006|\"Quality Management\"|110725|  Peternela|     Onuegbe|\n",
      "|   d006|\"Quality Management\"|110765|     Rutger|     Hofmeyr|\n",
      "|   d006|\"Quality Management\"|110800|     Sanjoy|     Quadeer|\n",
      "|   d006|\"Quality Management\"|110854|       Dung|       Pesch|\n",
      "|   d007|             \"Sales\"|111035|Przemyslawa|   Kaelbling|\n",
      "|   d007|             \"Sales\"|111133|      Hauke|       Zhang|\n",
      "|   d008|          \"Research\"|111400|       Arie|     Staelin|\n",
      "|   d008|          \"Research\"|111534|     Hilary|      Kambil|\n",
      "+-------+--------------------+------+-----------+------------+\n",
      "only showing top 20 rows\n",
      "\n"
     ]
    }
   ],
   "source": [
    "##question 3--A list showing the manager of each department with the following information: department number, department name, the manager's employee number, last name, first name.\n",
    "\n",
    "spark.sql(\"select departments.dept_no,departments.dept_name,dept_manager.emp_no,employees.first_name, employees.last_name from departments inner join dept_manager on departments.dept_no=dept_manager.dept_no  inner join employees on employees.emp_no=dept_manager.emp_no\").show()\n",
    "\n"
   ]
  },
  {
   "cell_type": "code",
   "execution_count": 37,
   "metadata": {},
   "outputs": [
    {
     "name": "stdout",
     "output_type": "stream",
     "text": [
      "+--------------------+------+-----------+------------+\n",
      "|           dept_name|emp_no| first_name|   last_name|\n",
      "+--------------------+------+-----------+------------+\n",
      "|         \"Marketing\"|110022|  Margareta|  Markovitch|\n",
      "|         \"Marketing\"|110039|   Vishwani|    Minakawa|\n",
      "|           \"Finance\"|110085|       Ebru|       Alpin|\n",
      "|           \"Finance\"|110114|      Isamu|  Legleitner|\n",
      "|   \"Human Resources\"|110183|    Shirish|Ossenbruggen|\n",
      "|   \"Human Resources\"|110228|    Karsten|     Sigstam|\n",
      "|        \"Production\"|110303|  Krassimir|     Wegerle|\n",
      "|        \"Production\"|110344|     Rosine|       Cools|\n",
      "|        \"Production\"|110386|       Shem|      Kieras|\n",
      "|        \"Production\"|110420|      Oscar|    Ghazalie|\n",
      "|       \"development\"|110511|   DeForest|    Hagimont|\n",
      "|       \"development\"|110567|       Leon|    DasSarma|\n",
      "|\"Quality Management\"|110725|  Peternela|     Onuegbe|\n",
      "|\"Quality Management\"|110765|     Rutger|     Hofmeyr|\n",
      "|\"Quality Management\"|110800|     Sanjoy|     Quadeer|\n",
      "|\"Quality Management\"|110854|       Dung|       Pesch|\n",
      "|             \"Sales\"|111035|Przemyslawa|   Kaelbling|\n",
      "|             \"Sales\"|111133|      Hauke|       Zhang|\n",
      "|          \"Research\"|111400|       Arie|     Staelin|\n",
      "|          \"Research\"|111534|     Hilary|      Kambil|\n",
      "+--------------------+------+-----------+------------+\n",
      "only showing top 20 rows\n",
      "\n"
     ]
    }
   ],
   "source": [
    "##4--A list showing the department of each employee with the following information: employee number, last name, first  name, and department name.\n",
    "\n",
    "\n",
    "spark.sql(\"select departments.dept_name,dept_manager.emp_no,employees.first_name, employees.last_name from departments inner join dept_manager on departments.dept_no=dept_manager.dept_no  inner join employees on employees.emp_no=dept_manager.emp_no\").show()\n",
    "\n"
   ]
  },
  {
   "cell_type": "code",
   "execution_count": 38,
   "metadata": {},
   "outputs": [
    {
     "name": "stdout",
     "output_type": "stream",
     "text": [
      "+----------+-------------+---+\n",
      "|first_name|    last_name|sex|\n",
      "+----------+-------------+---+\n",
      "|  Hercules|   Benzmuller|  M|\n",
      "|  Hercules|      Brendel|  F|\n",
      "|  Hercules|   Baranowski|  M|\n",
      "|  Hercules|     Barreiro|  M|\n",
      "|  Hercules|         Baer|  M|\n",
      "|  Hercules|Bernardinello|  F|\n",
      "|  Hercules|      Basagni|  M|\n",
      "|  Hercules|        Biran|  F|\n",
      "|  Hercules|    Bernatsky|  M|\n",
      "|  Hercules|         Bail|  F|\n",
      "|  Hercules|        Birge|  F|\n",
      "|  Hercules|      Bisiani|  F|\n",
      "|  Hercules|       Bodoff|  M|\n",
      "|  Hercules|        Biron|  F|\n",
      "|  Hercules|      Buchter|  M|\n",
      "|  Hercules|         Bain|  F|\n",
      "|  Hercules|         Bahr|  M|\n",
      "|  Hercules|         Baak|  M|\n",
      "|  Hercules|     Benantar|  F|\n",
      "|  Hercules|      Berstel|  F|\n",
      "+----------+-------------+---+\n",
      "\n"
     ]
    }
   ],
   "source": [
    "##5- A list showing first name, last name, and sex for employees whose first name is \"Hercules\" and last names begin with \"B.“\n",
    "\n",
    "spark.sql(\" SELECT employees.first_name,employees.last_name,employees.sex from employees where employees.first_name = 'Hercules' and employees.last_name like 'B%' \").show()"
   ]
  },
  {
   "cell_type": "code",
   "execution_count": 39,
   "metadata": {},
   "outputs": [
    {
     "name": "stdout",
     "output_type": "stream",
     "text": [
      "+------+----------+------------+---------+\n",
      "|emp_no|first_name|   last_name|dept_name|\n",
      "+------+----------+------------+---------+\n",
      "| 10002|   Bezalel|      Simmel|  \"Sales\"|\n",
      "| 10016|  Kazuhito| Cappelletti|  \"Sales\"|\n",
      "| 10034|     Bader|        Swan|  \"Sales\"|\n",
      "| 10041|       Uri|      Lenart|  \"Sales\"|\n",
      "| 10050|   Yinghua|      Dredge|  \"Sales\"|\n",
      "| 10053|    Sanjiv|    Zschoche|  \"Sales\"|\n",
      "| 10060|  Breannda| Billingsley|  \"Sales\"|\n",
      "| 10061|       Tse|      Herber|  \"Sales\"|\n",
      "| 10068|  Charlene|     Brattka|  \"Sales\"|\n",
      "| 10087|   Xinglin|     Eugenio|  \"Sales\"|\n",
      "| 10088|  Jungsoon|    Syrzycki|  \"Sales\"|\n",
      "| 10089| Sudharsan|Flasterstein|  \"Sales\"|\n",
      "| 10093|   Sailaja|     Desikan|  \"Sales\"|\n",
      "| 10095|    Hilari|      Morton|  \"Sales\"|\n",
      "| 10099|    Valter|     Sullins|  \"Sales\"|\n",
      "| 10101|     Perla|      Heyers|  \"Sales\"|\n",
      "| 10107|      Dung|        Baca|  \"Sales\"|\n",
      "| 10125|     Syozo|     Hiltgen|  \"Sales\"|\n",
      "| 10136|    Zissis|    Pintelas|  \"Sales\"|\n",
      "| 10148|    Douadi|       Azumi|  \"Sales\"|\n",
      "+------+----------+------------+---------+\n",
      "only showing top 20 rows\n",
      "\n"
     ]
    }
   ],
   "source": [
    "##question -6- A list showing all employees in the Sales department, including their employee number, last name, first name, and  department name.\n",
    "\n",
    "spark.sql(\"select employees.emp_no,employees.first_name,employees.last_name, departments.dept_name from employees left join dept_emp on  employees.emp_no=dept_emp.emp_no left join departments on departments.dept_no=dept_emp.dept_no where departments.dept_name like '%Sales%' \").show()"
   ]
  },
  {
   "cell_type": "code",
   "execution_count": 40,
   "metadata": {},
   "outputs": [
    {
     "name": "stdout",
     "output_type": "stream",
     "text": [
      "+------+----------+-----------+-------------+\n",
      "|emp_no|first_name|  last_name|    dept_name|\n",
      "+------+----------+-----------+-------------+\n",
      "| 10001|    Georgi|    Facello|\"development\"|\n",
      "| 10002|   Bezalel|     Simmel|      \"Sales\"|\n",
      "| 10006|    Anneke|    Preusig|\"development\"|\n",
      "| 10008|    Saniya|   Kalloufi|\"development\"|\n",
      "| 10012|  Patricio|  Bridgland|\"development\"|\n",
      "| 10014|     Berni|      Genin|\"development\"|\n",
      "| 10016|  Kazuhito|Cappelletti|      \"Sales\"|\n",
      "| 10018|  Kazuhide|       Peha|\"development\"|\n",
      "| 10021|     Ramzi|       Erde|\"development\"|\n",
      "| 10022|    Shahaf|     Famili|\"development\"|\n",
      "| 10023|     Bojan| Montemayor|\"development\"|\n",
      "| 10025| Prasadram|     Heyers|\"development\"|\n",
      "| 10027|    Divier|    Reistad|\"development\"|\n",
      "| 10028|  Domenick|   Tempesti|\"development\"|\n",
      "| 10031|   Karsten|     Joslin|\"development\"|\n",
      "| 10034|     Bader|       Swan|      \"Sales\"|\n",
      "| 10037|   Pradeep|   Makrucki|\"development\"|\n",
      "| 10040|     Weiyi|    Meriste|\"development\"|\n",
      "| 10041|       Uri|     Lenart|      \"Sales\"|\n",
      "| 10043|    Yishay|    Tzvieli|\"development\"|\n",
      "+------+----------+-----------+-------------+\n",
      "only showing top 20 rows\n",
      "\n"
     ]
    }
   ],
   "source": [
    "##q7-A list showing all employees in the Sales and Development departments, including their employee number, last name,  first name, and department name.\n",
    "\n",
    "spark.sql(\"select employees.emp_no,employees.first_name,employees.last_name,departments.dept_name from employees left join dept_emp on employees.emp_no=dept_emp.emp_no left join departments on departments.dept_no=dept_emp.dept_no where departments.dept_name like '%Sales%' or departments.dept_name like'%development%'\").show()"
   ]
  },
  {
   "cell_type": "code",
   "execution_count": 41,
   "metadata": {},
   "outputs": [
    {
     "name": "stdout",
     "output_type": "stream",
     "text": [
      "+-----------+---+\n",
      "|  last_name|cnt|\n",
      "+-----------+---+\n",
      "|       Baba|226|\n",
      "|     Gelosh|223|\n",
      "|      Coorg|223|\n",
      "|    Sudbeck|222|\n",
      "|     Farris|222|\n",
      "|     Adachi|221|\n",
      "|     Osgood|220|\n",
      "|     Masada|218|\n",
      "|     Neiman|218|\n",
      "|    Mandell|218|\n",
      "|    Wendorf|217|\n",
      "|Boudaillier|217|\n",
      "|     Pettis|216|\n",
      "|   Cummings|216|\n",
      "|    Solares|216|\n",
      "|     Mahnke|216|\n",
      "|    Kulisch|215|\n",
      "| Maksimenko|215|\n",
      "|   Collette|215|\n",
      "|   Birjandi|215|\n",
      "+-----------+---+\n",
      "only showing top 20 rows\n",
      "\n"
     ]
    }
   ],
   "source": [
    "##question-8-A list showing the frequency count of employee last names, in descending order. ( i.e., how many employees share each  last name\n",
    "\n",
    "spark.sql(\" select employees.last_name,count(last_name) as cnt from employees GROUP BY last_name order by cnt desc \").show()\n"
   ]
  },
  {
   "cell_type": "code",
   "execution_count": 66,
   "metadata": {},
   "outputs": [
    {
     "data": {
      "text/plain": [
       "<matplotlib.axes._subplots.AxesSubplot at 0x7fb564d19e10>"
      ]
     },
     "execution_count": 66,
     "metadata": {},
     "output_type": "execute_result"
    },
    {
     "data": {
      "image/png": "[encoded data removed]",
      "text/plain": [
       "<Figure size 432x288 with 1 Axes>"
      ]
     },
     "metadata": {
      "needs_background": "light"
     },
     "output_type": "display_data"
    }
   ],
   "source": [
    "##9-Histogram to show the salary distribution among the employees--\n",
    "import matplotlib.pyplot as plt\n",
    "import pandas as pd\n",
    "histo=spark.sql(\"select titles.title,salaries.salary from employees join titles on employees.emp_titles_id=titles.title_id join salaries on salaries.emp_no=employees.emp_no\")\n",
    "histo1=histo.toPandas()\n",
    "histo1.plot(kind=\"hist\")"
   ]
  },
  {
   "cell_type": "code",
   "execution_count": 71,
   "metadata": {},
   "outputs": [],
   "source": [
    "##10--Bar graph to show the Average salary per title (designation)\n",
    "\n",
    "\n",
    "title=spark.sql(\"select avg(salaries.salary),titles.title from employees join titles on employees.emp_titles_id=titles.title_id join salaries on salaries.emp_no=employees.emp_no group by titles.title\").toPandas()"
   ]
  },
  {
   "cell_type": "code",
   "execution_count": 74,
   "metadata": {},
   "outputs": [
    {
     "data": {
      "text/plain": [
       "Index(['avg(salary)', 'title'], dtype='object')"
      ]
     },
     "execution_count": 74,
     "metadata": {},
     "output_type": "execute_result"
    }
   ],
   "source": [
    "title.columns"
   ]
  },
  {
   "cell_type": "code",
   "execution_count": 82,
   "metadata": {},
   "outputs": [
    {
     "data": {
      "image/png": "[encoded data removed]",
      "text/plain": [
       "<Figure size 864x360 with 1 Axes>"
      ]
     },
     "metadata": {
      "needs_background": "light"
     },
     "output_type": "display_data"
    }
   ],
   "source": [
    "import numpy as np\n",
    "x_axis= np.arange(len(title))\n",
    "y_axis = title[\"avg(salary)\"]\n",
    "plt.figure(figsize=(12,5))\n",
    "bar_chart = plt.barh(x_axis, y_axis, color = 'b', alpha= 0.5, align='center', label='Average Salaries by Title') \n",
    "plt.xlim(0,65000)\n",
    "plt.ylim(-0.75,7)\n",
    "plt.title('Average Salaries by Titles', fontsize=18)\n",
    "plt.xlabel(\"Average Salary\", fontsize=15)\n",
    "plt.ylabel(\"Titles\", fontsize=15)\n",
    "plt.legend(loc='best')\n",
    "\n",
    "tick_locations = [value for value in x_axis]\n",
    "plt.yticks(tick_locations, title['title'], rotation=\"horizontal\")\n",
    "plt.grid(True, linestyle='--', which='major', color='grey', alpha=.25)\n",
    "plt.show()"
   ]
  },
  {
   "cell_type": "code",
   "execution_count": 85,
   "metadata": {},
   "outputs": [],
   "source": [
    "salaries_freq_df=spark.sql(\"select salary from salaries\")"
   ]
  },
  {
   "cell_type": "code",
   "execution_count": 88,
   "metadata": {},
   "outputs": [
    {
     "name": "stdout",
     "output_type": "stream",
     "text": [
      "+------+\n",
      "|salary|\n",
      "+------+\n",
      "| 60117|\n",
      "| 65828|\n",
      "| 40006|\n",
      "| 40054|\n",
      "| 78228|\n",
      "| 40000|\n",
      "| 56724|\n",
      "| 46671|\n",
      "| 60929|\n",
      "| 72488|\n",
      "| 42365|\n",
      "| 40000|\n",
      "| 40000|\n",
      "| 46168|\n",
      "| 40000|\n",
      "| 70889|\n",
      "| 71380|\n",
      "| 55881|\n",
      "| 44276|\n",
      "| 40000|\n",
      "+------+\n",
      "only showing top 20 rows\n",
      "\n"
     ]
    }
   ],
   "source": [
    "salaries_freq_df.show()"
   ]
  },
  {
   "cell_type": "code",
   "execution_count": 97,
   "metadata": {},
   "outputs": [],
   "source": [
    "###SQL to see the top 10 most common salary for employees\n",
    "salaries_freg_df2=spark.sql(\"select count(salary) as no_of_employees,salary from salaries group by salary order by count(salary) desc limit 10\")"
   ]
  },
  {
   "cell_type": "code",
   "execution_count": 98,
   "metadata": {},
   "outputs": [
    {
     "name": "stdout",
     "output_type": "stream",
     "text": [
      "+---------------+------+\n",
      "|no_of_employees|salary|\n",
      "+---------------+------+\n",
      "|          95346| 40000|\n",
      "|             19| 55581|\n",
      "|             18| 53078|\n",
      "|             18| 53738|\n",
      "|             17| 44564|\n",
      "|             17| 45184|\n",
      "|             17| 47454|\n",
      "|             16| 53783|\n",
      "|             16| 43710|\n",
      "|             16| 45050|\n",
      "+---------------+------+\n",
      "\n"
     ]
    }
   ],
   "source": [
    "salaries_freg_df2.show()"
   ]
  },
  {
   "cell_type": "code",
   "execution_count": 113,
   "metadata": {},
   "outputs": [
    {
     "name": "stdout",
     "output_type": "stream",
     "text": [
      "+------------------+------------------+\n",
      "|        avg_salary|             title|\n",
      "+------------------+------------------+\n",
      "| 58465.38285033152|             Staff|\n",
      "| 48564.43444730077|Assistant Engineer|\n",
      "| 58550.17270435993|      Senior Staff|\n",
      "| 48506.79987109579|   Senior Engineer|\n",
      "|48535.336511426336|          Engineer|\n",
      "|51531.041666666664|           Manager|\n",
      "| 48582.89609189332|  Technique Leader|\n",
      "+------------------+------------------+\n",
      "\n"
     ]
    }
   ],
   "source": [
    "##SQL to get average salary for each job title\n",
    "\n",
    "salaries_avg_title_df=spark.sql(\"select avg(salary) as avg_salary,title from salaries inner join employees on employees.emp_no=salaries.emp_no inner join titles on titles.title_id=employees.emp_titles_id group by title\").show()"
   ]
  },
  {
   "cell_type": "code",
   "execution_count": null,
   "metadata": {},
   "outputs": [],
   "source": []
  },
  {
   "cell_type": "code",
   "execution_count": null,
   "metadata": {},
   "outputs": [],
   "source": []
  },
  {
   "cell_type": "code",
   "execution_count": null,
   "metadata": {},
   "outputs": [],
   "source": []
  },
  {
   "cell_type": "code",
   "execution_count": null,
   "metadata": {},
   "outputs": [],
   "source": []
  }
 ],
 "metadata": {
  "kernelspec": {
   "display_name": "Python 3",
   "language": "python",
   "name": "python3"
  },
  "language_info": {
   "codemirror_mode": {
    "name": "ipython",
    "version": 3
   },
   "file_extension": ".py",
   "mimetype": "text/x-python",
   "name": "python",
   "nbconvert_exporter": "python",
   "pygments_lexer": "ipython3",
   "version": "3.7.6"
  }
 },
 "nbformat": 4,
 "nbformat_minor": 4
}
